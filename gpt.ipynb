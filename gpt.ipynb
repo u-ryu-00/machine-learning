{
  "cells": [
    {
      "cell_type": "markdown",
      "metadata": {
        "id": "view-in-github",
        "colab_type": "text"
      },
      "source": [
        "<a href=\"https://colab.research.google.com/github/u-ryu-00/machine-learning/blob/main/gpt.ipynb\" target=\"_parent\"><img src=\"https://colab.research.google.com/assets/colab-badge.svg\" alt=\"Open In Colab\"/></a>"
      ]
    },
    {
      "cell_type": "code",
      "execution_count": 33,
      "metadata": {
        "id": "yZhg6AEmGxiQ"
      },
      "outputs": [],
      "source": [
        "# 코드 출처 - https://github.com/rickiepark/Generative_Deep_Learning_2nd_Edition/blob/main/notebooks/09_transformer/gpt/gpt.ipynb\n",
        "\n",
        "import numpy as np\n",
        "import json\n",
        "import re\n",
        "import string\n",
        "from IPython.display import display, HTML\n",
        "\n",
        "import tensorflow as tf\n",
        "from tensorflow.keras import layers, models, losses, callbacks"
      ]
    },
    {
      "cell_type": "code",
      "execution_count": 2,
      "metadata": {
        "id": "gf-RPlKcG587"
      },
      "outputs": [],
      "source": [
        "VOCAB_SIZE = 10000\n",
        "MAX_LEN = 80\n",
        "EMBEDDING_DIM = 256\n",
        "KEY_DIM = 256\n",
        "N_HEADS = 2\n",
        "FEED_FORWARD_DIM = 256\n",
        "VALIDATION_SPLIT = 0.2\n",
        "SEED = 42\n",
        "LOAD_MODEL = False\n",
        "BATCH_SIZE = 32\n",
        "EPOCHS = 5"
      ]
    },
    {
      "cell_type": "code",
      "execution_count": 3,
      "metadata": {
        "colab": {
          "base_uri": "https://localhost:8080/",
          "height": 164
        },
        "id": "QzcOJFh1G8cG",
        "outputId": "c244ba40-946f-4bf3-d1ee-71c13fbce145"
      },
      "outputs": [
        {
          "output_type": "display_data",
          "data": {
            "text/plain": [
              "<IPython.core.display.HTML object>"
            ],
            "text/html": [
              "\n",
              "     <input type=\"file\" id=\"files-ee8b8031-ed42-4f85-a538-aed86b500ef2\" name=\"files[]\" multiple disabled\n",
              "        style=\"border:none\" />\n",
              "     <output id=\"result-ee8b8031-ed42-4f85-a538-aed86b500ef2\">\n",
              "      Upload widget is only available when the cell has been executed in the\n",
              "      current browser session. Please rerun this cell to enable.\n",
              "      </output>\n",
              "      <script>// Copyright 2017 Google LLC\n",
              "//\n",
              "// Licensed under the Apache License, Version 2.0 (the \"License\");\n",
              "// you may not use this file except in compliance with the License.\n",
              "// You may obtain a copy of the License at\n",
              "//\n",
              "//      http://www.apache.org/licenses/LICENSE-2.0\n",
              "//\n",
              "// Unless required by applicable law or agreed to in writing, software\n",
              "// distributed under the License is distributed on an \"AS IS\" BASIS,\n",
              "// WITHOUT WARRANTIES OR CONDITIONS OF ANY KIND, either express or implied.\n",
              "// See the License for the specific language governing permissions and\n",
              "// limitations under the License.\n",
              "\n",
              "/**\n",
              " * @fileoverview Helpers for google.colab Python module.\n",
              " */\n",
              "(function(scope) {\n",
              "function span(text, styleAttributes = {}) {\n",
              "  const element = document.createElement('span');\n",
              "  element.textContent = text;\n",
              "  for (const key of Object.keys(styleAttributes)) {\n",
              "    element.style[key] = styleAttributes[key];\n",
              "  }\n",
              "  return element;\n",
              "}\n",
              "\n",
              "// Max number of bytes which will be uploaded at a time.\n",
              "const MAX_PAYLOAD_SIZE = 100 * 1024;\n",
              "\n",
              "function _uploadFiles(inputId, outputId) {\n",
              "  const steps = uploadFilesStep(inputId, outputId);\n",
              "  const outputElement = document.getElementById(outputId);\n",
              "  // Cache steps on the outputElement to make it available for the next call\n",
              "  // to uploadFilesContinue from Python.\n",
              "  outputElement.steps = steps;\n",
              "\n",
              "  return _uploadFilesContinue(outputId);\n",
              "}\n",
              "\n",
              "// This is roughly an async generator (not supported in the browser yet),\n",
              "// where there are multiple asynchronous steps and the Python side is going\n",
              "// to poll for completion of each step.\n",
              "// This uses a Promise to block the python side on completion of each step,\n",
              "// then passes the result of the previous step as the input to the next step.\n",
              "function _uploadFilesContinue(outputId) {\n",
              "  const outputElement = document.getElementById(outputId);\n",
              "  const steps = outputElement.steps;\n",
              "\n",
              "  const next = steps.next(outputElement.lastPromiseValue);\n",
              "  return Promise.resolve(next.value.promise).then((value) => {\n",
              "    // Cache the last promise value to make it available to the next\n",
              "    // step of the generator.\n",
              "    outputElement.lastPromiseValue = value;\n",
              "    return next.value.response;\n",
              "  });\n",
              "}\n",
              "\n",
              "/**\n",
              " * Generator function which is called between each async step of the upload\n",
              " * process.\n",
              " * @param {string} inputId Element ID of the input file picker element.\n",
              " * @param {string} outputId Element ID of the output display.\n",
              " * @return {!Iterable<!Object>} Iterable of next steps.\n",
              " */\n",
              "function* uploadFilesStep(inputId, outputId) {\n",
              "  const inputElement = document.getElementById(inputId);\n",
              "  inputElement.disabled = false;\n",
              "\n",
              "  const outputElement = document.getElementById(outputId);\n",
              "  outputElement.innerHTML = '';\n",
              "\n",
              "  const pickedPromise = new Promise((resolve) => {\n",
              "    inputElement.addEventListener('change', (e) => {\n",
              "      resolve(e.target.files);\n",
              "    });\n",
              "  });\n",
              "\n",
              "  const cancel = document.createElement('button');\n",
              "  inputElement.parentElement.appendChild(cancel);\n",
              "  cancel.textContent = 'Cancel upload';\n",
              "  const cancelPromise = new Promise((resolve) => {\n",
              "    cancel.onclick = () => {\n",
              "      resolve(null);\n",
              "    };\n",
              "  });\n",
              "\n",
              "  // Wait for the user to pick the files.\n",
              "  const files = yield {\n",
              "    promise: Promise.race([pickedPromise, cancelPromise]),\n",
              "    response: {\n",
              "      action: 'starting',\n",
              "    }\n",
              "  };\n",
              "\n",
              "  cancel.remove();\n",
              "\n",
              "  // Disable the input element since further picks are not allowed.\n",
              "  inputElement.disabled = true;\n",
              "\n",
              "  if (!files) {\n",
              "    return {\n",
              "      response: {\n",
              "        action: 'complete',\n",
              "      }\n",
              "    };\n",
              "  }\n",
              "\n",
              "  for (const file of files) {\n",
              "    const li = document.createElement('li');\n",
              "    li.append(span(file.name, {fontWeight: 'bold'}));\n",
              "    li.append(span(\n",
              "        `(${file.type || 'n/a'}) - ${file.size} bytes, ` +\n",
              "        `last modified: ${\n",
              "            file.lastModifiedDate ? file.lastModifiedDate.toLocaleDateString() :\n",
              "                                    'n/a'} - `));\n",
              "    const percent = span('0% done');\n",
              "    li.appendChild(percent);\n",
              "\n",
              "    outputElement.appendChild(li);\n",
              "\n",
              "    const fileDataPromise = new Promise((resolve) => {\n",
              "      const reader = new FileReader();\n",
              "      reader.onload = (e) => {\n",
              "        resolve(e.target.result);\n",
              "      };\n",
              "      reader.readAsArrayBuffer(file);\n",
              "    });\n",
              "    // Wait for the data to be ready.\n",
              "    let fileData = yield {\n",
              "      promise: fileDataPromise,\n",
              "      response: {\n",
              "        action: 'continue',\n",
              "      }\n",
              "    };\n",
              "\n",
              "    // Use a chunked sending to avoid message size limits. See b/62115660.\n",
              "    let position = 0;\n",
              "    do {\n",
              "      const length = Math.min(fileData.byteLength - position, MAX_PAYLOAD_SIZE);\n",
              "      const chunk = new Uint8Array(fileData, position, length);\n",
              "      position += length;\n",
              "\n",
              "      const base64 = btoa(String.fromCharCode.apply(null, chunk));\n",
              "      yield {\n",
              "        response: {\n",
              "          action: 'append',\n",
              "          file: file.name,\n",
              "          data: base64,\n",
              "        },\n",
              "      };\n",
              "\n",
              "      let percentDone = fileData.byteLength === 0 ?\n",
              "          100 :\n",
              "          Math.round((position / fileData.byteLength) * 100);\n",
              "      percent.textContent = `${percentDone}% done`;\n",
              "\n",
              "    } while (position < fileData.byteLength);\n",
              "  }\n",
              "\n",
              "  // All done.\n",
              "  yield {\n",
              "    response: {\n",
              "      action: 'complete',\n",
              "    }\n",
              "  };\n",
              "}\n",
              "\n",
              "scope.google = scope.google || {};\n",
              "scope.google.colab = scope.google.colab || {};\n",
              "scope.google.colab._files = {\n",
              "  _uploadFiles,\n",
              "  _uploadFilesContinue,\n",
              "};\n",
              "})(self);\n",
              "</script> "
            ]
          },
          "metadata": {}
        },
        {
          "output_type": "stream",
          "name": "stdout",
          "text": [
            "Saving kaggle.json to kaggle.json\n",
            "Dataset URL: https://www.kaggle.com/datasets/zynicide/wine-reviews\n",
            "License(s): CC-BY-NC-SA-4.0\n",
            "Downloading wine-reviews.zip to /content\n",
            "100% 50.9M/50.9M [00:03<00:00, 17.1MB/s]\n",
            "100% 50.9M/50.9M [00:03<00:00, 14.8MB/s]\n"
          ]
        }
      ],
      "source": [
        "import sys\n",
        "\n",
        "# 코랩일 경우 노트북에서 celeba 데이터셋을 받습니다.\n",
        "if 'google.colab' in sys.modules:\n",
        "    # 캐글-->Setttings-->API-->Create New Token에서\n",
        "    # kaggle.json 파일을 만들어 코랩에 업로드하세요.\n",
        "    from google.colab import files\n",
        "    files.upload()\n",
        "    !mkdir ~/.kaggle\n",
        "    !cp kaggle.json ~/.kaggle/\n",
        "    !chmod 600 ~/.kaggle/kaggle.json\n",
        "    # celeba 데이터셋을 다운로드하고 압축을 해제합니다.\n",
        "    !kaggle datasets download -d zynicide/wine-reviews\n",
        "    !unzip -q wine-reviews.zip\n",
        "    # model 디렉토리를 만듭니다.\n",
        "    !mkdir models"
      ]
    },
    {
      "cell_type": "code",
      "execution_count": 4,
      "metadata": {
        "id": "Ok3iEHlrHBQb"
      },
      "outputs": [],
      "source": [
        "# 전체 데이터셋 로드\n",
        "with open(\"./winemag-data-130k-v2.json\") as json_data:\n",
        "    wine_data = json.load(json_data)"
      ]
    },
    {
      "cell_type": "code",
      "execution_count": null,
      "metadata": {
        "colab": {
          "base_uri": "https://localhost:8080/"
        },
        "id": "wDYFCMaYHENN",
        "outputId": "074e505a-19a9-42e5-a5a9-8dc81689a557"
      },
      "outputs": [
        {
          "output_type": "execute_result",
          "data": {
            "text/plain": [
              "{'points': '87',\n",
              " 'title': 'Kirkland Signature 2011 Mountain Cuvée Cabernet Sauvignon (Napa Valley)',\n",
              " 'description': 'Soft, supple plum envelopes an oaky structure in this Cabernet, supported by 15% Merlot. Coffee and chocolate complete the picture, finishing strong at the end, resulting in a value-priced wine of attractive flavor and immediate accessibility.',\n",
              " 'taster_name': 'Virginie Boone',\n",
              " 'taster_twitter_handle': '@vboone',\n",
              " 'price': 19,\n",
              " 'designation': 'Mountain Cuvée',\n",
              " 'variety': 'Cabernet Sauvignon',\n",
              " 'region_1': 'Napa Valley',\n",
              " 'region_2': 'Napa',\n",
              " 'province': 'California',\n",
              " 'country': 'US',\n",
              " 'winery': 'Kirkland Signature'}"
            ]
          },
          "metadata": {},
          "execution_count": 9
        }
      ],
      "source": [
        "wine_data[10]"
      ]
    },
    {
      "cell_type": "code",
      "execution_count": 5,
      "metadata": {
        "id": "hNirfO6yHHwI"
      },
      "outputs": [],
      "source": [
        "# 데이터셋 필터링\n",
        "filtered_data = [\n",
        "    \"wine review : \"\n",
        "    + x[\"country\"]\n",
        "    + \" : \"\n",
        "    + x[\"province\"]\n",
        "    + \" : \"\n",
        "    + x[\"variety\"]\n",
        "    + \" : \"\n",
        "    + x[\"description\"]\n",
        "    for x in wine_data\n",
        "    if x[\"country\"] is not None\n",
        "    and x[\"province\"] is not None\n",
        "    and x[\"variety\"] is not None\n",
        "    and x[\"description\"] is not None\n",
        "]"
      ]
    },
    {
      "cell_type": "code",
      "execution_count": 6,
      "metadata": {
        "colab": {
          "base_uri": "https://localhost:8080/"
        },
        "id": "OpUNb2xqHJk5",
        "outputId": "8592e4a0-799e-43fb-9702-0d1f371618e0"
      },
      "outputs": [
        {
          "output_type": "stream",
          "name": "stdout",
          "text": [
            "129907개 레시피 로드\n"
          ]
        }
      ],
      "source": [
        "# 레시피 개수 카운트\n",
        "n_wines = len(filtered_data)\n",
        "print(f\"{n_wines}개 레시피 로드\")"
      ]
    },
    {
      "cell_type": "code",
      "execution_count": 7,
      "metadata": {
        "colab": {
          "base_uri": "https://localhost:8080/"
        },
        "id": "HRtO61PRHLM7",
        "outputId": "205ea37b-cf3f-473a-8b6b-f3f863900eaa"
      },
      "outputs": [
        {
          "output_type": "stream",
          "name": "stdout",
          "text": [
            "wine review : US : California : Pinot Noir : Oak and earth intermingle around robust aromas of wet forest floor in this vineyard-designated Pinot that hails from a high-elevation site. Small in production, it offers intense, full-bodied raspberry and blackberry steeped in smoky spice and smooth texture.\n"
          ]
        }
      ],
      "source": [
        "example = filtered_data[25]\n",
        "print(example)"
      ]
    },
    {
      "cell_type": "code",
      "execution_count": 8,
      "metadata": {
        "id": "40WLNTCJHOJu"
      },
      "outputs": [],
      "source": [
        "# 구두점 앞에 공백을 채워서 별도의 '단어'로 취급합니다.\n",
        "def pad_punctuation(s):\n",
        "    s = re.sub(f\"([{string.punctuation}, '\\n'])\", r\" \\1 \", s)\n",
        "    s = re.sub(\" +\", \" \", s)\n",
        "    return s\n",
        "\n",
        "\n",
        "text_data = [pad_punctuation(x) for x in filtered_data]"
      ]
    },
    {
      "cell_type": "code",
      "execution_count": 9,
      "metadata": {
        "colab": {
          "base_uri": "https://localhost:8080/",
          "height": 107
        },
        "id": "j4R9wa0DHSt5",
        "outputId": "789cb81a-09b7-4f62-b058-dc5add13a7d3"
      },
      "outputs": [
        {
          "output_type": "execute_result",
          "data": {
            "text/plain": [
              "'wine review : US : California : Pinot Noir : Oak and earth intermingle around robust aromas of wet forest floor in this vineyard - designated Pinot that hails from a high - elevation site . Small in production , it offers intense , full - bodied raspberry and blackberry steeped in smoky spice and smooth texture . '"
            ],
            "application/vnd.google.colaboratory.intrinsic+json": {
              "type": "string"
            }
          },
          "metadata": {},
          "execution_count": 9
        }
      ],
      "source": [
        "# 레시피 예시 표시\n",
        "example_data = text_data[25]\n",
        "example_data"
      ]
    },
    {
      "cell_type": "code",
      "execution_count": 10,
      "metadata": {
        "id": "Z8cKpYBOHUeY"
      },
      "outputs": [],
      "source": [
        "# 텐서플로 데이터셋으로 변환하기\n",
        "text_ds = (\n",
        "    tf.data.Dataset.from_tensor_slices(text_data)\n",
        "    .batch(BATCH_SIZE)\n",
        "    .shuffle(1000)\n",
        ")"
      ]
    },
    {
      "cell_type": "code",
      "execution_count": 11,
      "metadata": {
        "id": "dFPDojThHXFh"
      },
      "outputs": [],
      "source": [
        "# TextVectorization 층 만들기\n",
        "vectorize_layer = layers.TextVectorization(\n",
        "    standardize=\"lower\",\n",
        "    max_tokens=VOCAB_SIZE,\n",
        "    output_mode=\"int\",\n",
        "    output_sequence_length=MAX_LEN + 1,\n",
        ")"
      ]
    },
    {
      "cell_type": "code",
      "execution_count": 12,
      "metadata": {
        "id": "kzDHV6jaHYnH"
      },
      "outputs": [],
      "source": [
        "# 훈련 세트에 이 층을 적용합니다.\n",
        "vectorize_layer.adapt(text_ds)\n",
        "vocab = vectorize_layer.get_vocabulary()"
      ]
    },
    {
      "cell_type": "code",
      "execution_count": 13,
      "metadata": {
        "colab": {
          "base_uri": "https://localhost:8080/"
        },
        "id": "MuBhSFg1Hm78",
        "outputId": "a173b759-a0bb-4151-e449-481df92d45c8"
      },
      "outputs": [
        {
          "output_type": "stream",
          "name": "stdout",
          "text": [
            "0: \n",
            "1: [UNK]\n",
            "2: :\n",
            "3: ,\n",
            "4: .\n",
            "5: and\n",
            "6: the\n",
            "7: wine\n",
            "8: a\n",
            "9: of\n"
          ]
        }
      ],
      "source": [
        "# 토큰:단어 매핑 표시\n",
        "for i, word in enumerate(vocab[:10]):\n",
        "    print(f\"{i}: {word}\")"
      ]
    },
    {
      "cell_type": "code",
      "execution_count": 14,
      "metadata": {
        "colab": {
          "base_uri": "https://localhost:8080/"
        },
        "id": "PxC5VzPkHofU",
        "outputId": "35e7f763-49c7-4ac6-ac81-9228a99eeca7"
      },
      "outputs": [
        {
          "output_type": "stream",
          "name": "stdout",
          "text": [
            "[   7   10    2   20    2   29    2   43   62    2   55    5  243 4145\n",
            "  453  634   26    9  497  499  667   17   12  142   14 2214   43   25\n",
            " 2484   32    8  223   14 2213  948    4  594   17  987    3   15   75\n",
            "  237    3   64   14   82   97    5   74 2633   17  198   49    5  125\n",
            "   77    4    0    0    0    0    0    0    0    0    0    0    0    0\n",
            "    0    0    0    0    0    0    0    0    0    0    0]\n"
          ]
        }
      ],
      "source": [
        "# 동일한 샘플을 정수로 변환하여 표시\n",
        "example_tokenised = vectorize_layer(example_data)\n",
        "print(example_tokenised.numpy())"
      ]
    },
    {
      "cell_type": "code",
      "execution_count": 15,
      "metadata": {
        "id": "8zmPAsruHqwb"
      },
      "outputs": [],
      "source": [
        "# 레시피 텍스트와 한 단어만큼 이동된 동일한 텍스트로 훈련 세트를 만듭니다.\n",
        "def prepare_inputs(text):\n",
        "    text = tf.expand_dims(text, -1)\n",
        "    tokenized_sentences = vectorize_layer(text)\n",
        "    x = tokenized_sentences[:, :-1]\n",
        "    y = tokenized_sentences[:, 1:]\n",
        "    return x, y\n",
        "\n",
        "\n",
        "train_ds = text_ds.map(prepare_inputs)"
      ]
    },
    {
      "cell_type": "code",
      "execution_count": 16,
      "metadata": {
        "id": "AAbAzE7vHsQD"
      },
      "outputs": [],
      "source": [
        "example_input_output = train_ds.take(1).get_single_element()"
      ]
    },
    {
      "cell_type": "code",
      "execution_count": 17,
      "metadata": {
        "colab": {
          "base_uri": "https://localhost:8080/"
        },
        "id": "_HU1--hqHuSr",
        "outputId": "5ecc862e-7609-44e1-d6ae-687536daa67a"
      },
      "outputs": [
        {
          "output_type": "execute_result",
          "data": {
            "text/plain": [
              "<tf.Tensor: shape=(80,), dtype=int64, numpy=\n",
              "array([   7,   10,    2,   42,    2,  513,   42,    2, 1089,   14,   92,\n",
              "          2,    1,   18,   21,  186,  292,    7,    3,  256,  227,    6,\n",
              "         96,  398,    9, 1089,    4,   15,   41,   38,   70,    3,   76,\n",
              "         30,    5,   34,    5,    8,  147,    9,   49,    4,   12,   13,\n",
              "          8,  183,    7,   46, 4940,   11,   54,  186, 3393,  110,  366,\n",
              "         88,    6, 1718,    4,   35,   66,    4,  802,    4,    0,    0,\n",
              "          0,    0,    0,    0,    0,    0,    0,    0,    0,    0,    0,\n",
              "          0,    0,    0])>"
            ]
          },
          "metadata": {},
          "execution_count": 17
        }
      ],
      "source": [
        "# 입력 예시\n",
        "example_input_output[0][0]"
      ]
    },
    {
      "cell_type": "code",
      "execution_count": 18,
      "metadata": {
        "colab": {
          "base_uri": "https://localhost:8080/"
        },
        "id": "gN3YZF7qHv57",
        "outputId": "01cc87ec-9100-409f-9d0a-7ab5dd45aa1f"
      },
      "outputs": [
        {
          "output_type": "execute_result",
          "data": {
            "text/plain": [
              "<tf.Tensor: shape=(80,), dtype=int64, numpy=\n",
              "array([  10,    2,   42,    2,  513,   42,    2, 1089,   14,   92,    2,\n",
              "          1,   18,   21,  186,  292,    7,    3,  256,  227,    6,   96,\n",
              "        398,    9, 1089,    4,   15,   41,   38,   70,    3,   76,   30,\n",
              "          5,   34,    5,    8,  147,    9,   49,    4,   12,   13,    8,\n",
              "        183,    7,   46, 4940,   11,   54,  186, 3393,  110,  366,   88,\n",
              "          6, 1718,    4,   35,   66,    4,  802,    4,    0,    0,    0,\n",
              "          0,    0,    0,    0,    0,    0,    0,    0,    0,    0,    0,\n",
              "          0,    0,    0])>"
            ]
          },
          "metadata": {},
          "execution_count": 18
        }
      ],
      "source": [
        "# 출력 예시(토큰 하나씩 이동)\n",
        "example_input_output[1][0]"
      ]
    },
    {
      "cell_type": "code",
      "execution_count": 19,
      "metadata": {
        "colab": {
          "base_uri": "https://localhost:8080/"
        },
        "id": "PZ_1LLONHyOE",
        "outputId": "f987241d-6467-4d8a-fff3-d7c7d7413467"
      },
      "outputs": [
        {
          "output_type": "execute_result",
          "data": {
            "text/plain": [
              "array([[1, 1, 1, 1, 1, 1, 1, 1, 1, 1],\n",
              "       [0, 1, 1, 1, 1, 1, 1, 1, 1, 1],\n",
              "       [0, 0, 1, 1, 1, 1, 1, 1, 1, 1],\n",
              "       [0, 0, 0, 1, 1, 1, 1, 1, 1, 1],\n",
              "       [0, 0, 0, 0, 1, 1, 1, 1, 1, 1],\n",
              "       [0, 0, 0, 0, 0, 1, 1, 1, 1, 1],\n",
              "       [0, 0, 0, 0, 0, 0, 1, 1, 1, 1],\n",
              "       [0, 0, 0, 0, 0, 0, 0, 1, 1, 1],\n",
              "       [0, 0, 0, 0, 0, 0, 0, 0, 1, 1],\n",
              "       [0, 0, 0, 0, 0, 0, 0, 0, 0, 1]], dtype=int32)"
            ]
          },
          "metadata": {},
          "execution_count": 19
        }
      ],
      "source": [
        "def causal_attention_mask(batch_size, n_dest, n_src, dtype):\n",
        "    i = tf.range(n_dest)[:, None]\n",
        "    j = tf.range(n_src)\n",
        "    m = i >= j - n_src + n_dest\n",
        "    mask = tf.cast(m, dtype)\n",
        "    mask = tf.reshape(mask, [1, n_dest, n_src])\n",
        "    mult = tf.concat(\n",
        "        [tf.expand_dims(batch_size, -1), tf.constant([1, 1], dtype=tf.int32)], 0\n",
        "    )\n",
        "    return tf.tile(mask, mult)\n",
        "\n",
        "\n",
        "np.transpose(causal_attention_mask(1, 10, 10, dtype=tf.int32)[0])"
      ]
    },
    {
      "cell_type": "code",
      "execution_count": 20,
      "metadata": {
        "id": "nT8SgSrHH4Kx"
      },
      "outputs": [],
      "source": [
        "class TransformerBlock(layers.Layer):\n",
        "    def __init__(self, num_heads, key_dim, embed_dim, ff_dim, dropout_rate=0.1):\n",
        "        super(TransformerBlock, self).__init__()\n",
        "        self.num_heads = num_heads\n",
        "        self.key_dim = key_dim\n",
        "        self.embed_dim = embed_dim\n",
        "        self.ff_dim = ff_dim\n",
        "        self.dropout_rate = dropout_rate\n",
        "        self.attn = layers.MultiHeadAttention(\n",
        "            num_heads, key_dim, output_shape=embed_dim\n",
        "        )\n",
        "        self.dropout_1 = layers.Dropout(self.dropout_rate)\n",
        "        self.ln_1 = layers.LayerNormalization(epsilon=1e-6)\n",
        "        self.ffn_1 = layers.Dense(self.ff_dim, activation=\"relu\")\n",
        "        self.ffn_2 = layers.Dense(self.embed_dim)\n",
        "        self.dropout_2 = layers.Dropout(self.dropout_rate)\n",
        "        self.ln_2 = layers.LayerNormalization(epsilon=1e-6)\n",
        "\n",
        "    def call(self, inputs):\n",
        "        input_shape = tf.shape(inputs)\n",
        "        batch_size = input_shape[0]\n",
        "        seq_len = input_shape[1]\n",
        "        causal_mask = causal_attention_mask(\n",
        "            batch_size, seq_len, seq_len, tf.bool\n",
        "        )\n",
        "        attention_output, attention_scores = self.attn(\n",
        "            inputs,\n",
        "            inputs,\n",
        "            attention_mask=causal_mask,\n",
        "            return_attention_scores=True,\n",
        "        )\n",
        "        attention_output = self.dropout_1(attention_output)\n",
        "        out1 = self.ln_1(inputs + attention_output)\n",
        "        ffn_1 = self.ffn_1(out1)\n",
        "        ffn_2 = self.ffn_2(ffn_1)\n",
        "        ffn_output = self.dropout_2(ffn_2)\n",
        "        return (self.ln_2(out1 + ffn_output), attention_scores)\n",
        "\n",
        "    def get_config(self):\n",
        "        config = super().get_config()\n",
        "        config.update(\n",
        "            {\n",
        "                \"key_dim\": self.key_dim,\n",
        "                \"embed_dim\": self.embed_dim,\n",
        "                \"num_heads\": self.num_heads,\n",
        "                \"ff_dim\": self.ff_dim,\n",
        "                \"dropout_rate\": self.dropout_rate,\n",
        "            }\n",
        "        )\n",
        "        return config"
      ]
    },
    {
      "cell_type": "code",
      "execution_count": 21,
      "metadata": {
        "id": "h-kHEJkSIEUq"
      },
      "outputs": [],
      "source": [
        "class TokenAndPositionEmbedding(layers.Layer):\n",
        "    def __init__(self, max_len, vocab_size, embed_dim):\n",
        "        super(TokenAndPositionEmbedding, self).__init__()\n",
        "        self.max_len = max_len\n",
        "        self.vocab_size = vocab_size\n",
        "        self.embed_dim = embed_dim\n",
        "        self.token_emb = layers.Embedding(\n",
        "            input_dim=vocab_size, output_dim=embed_dim\n",
        "        )\n",
        "        self.pos_emb = layers.Embedding(input_dim=max_len, output_dim=embed_dim)\n",
        "\n",
        "    def call(self, x):\n",
        "        maxlen = tf.shape(x)[-1]\n",
        "        positions = tf.range(start=0, limit=maxlen, delta=1)\n",
        "        positions = self.pos_emb(positions)\n",
        "        x = self.token_emb(x)\n",
        "        return x + positions\n",
        "\n",
        "    def get_config(self):\n",
        "        config = super().get_config()\n",
        "        config.update(\n",
        "            {\n",
        "                \"max_len\": self.max_len,\n",
        "                \"vocab_size\": self.vocab_size,\n",
        "                \"embed_dim\": self.embed_dim,\n",
        "            }\n",
        "        )\n",
        "        return config"
      ]
    },
    {
      "cell_type": "code",
      "execution_count": 22,
      "metadata": {
        "id": "9XLr06ZUIGe5"
      },
      "outputs": [],
      "source": [
        "inputs = layers.Input(shape=(None,), dtype=tf.int32)\n",
        "x = TokenAndPositionEmbedding(MAX_LEN, VOCAB_SIZE, EMBEDDING_DIM)(inputs)\n",
        "x, attention_scores = TransformerBlock(\n",
        "    N_HEADS, KEY_DIM, EMBEDDING_DIM, FEED_FORWARD_DIM\n",
        ")(x)\n",
        "outputs = layers.Dense(VOCAB_SIZE, activation=\"softmax\")(x)\n",
        "gpt = models.Model(inputs=inputs, outputs=[outputs, attention_scores])\n",
        "gpt.compile(\"adam\", loss=[losses.SparseCategoricalCrossentropy(), None])"
      ]
    },
    {
      "cell_type": "code",
      "execution_count": 23,
      "metadata": {
        "colab": {
          "base_uri": "https://localhost:8080/",
          "height": 298
        },
        "id": "idE1nE1vILh3",
        "outputId": "9a945829-8803-44be-b655-3b2d9d6fb2cc"
      },
      "outputs": [
        {
          "output_type": "display_data",
          "data": {
            "text/plain": [
              "\u001b[1mModel: \"functional\"\u001b[0m\n"
            ],
            "text/html": [
              "<pre style=\"white-space:pre;overflow-x:auto;line-height:normal;font-family:Menlo,'DejaVu Sans Mono',consolas,'Courier New',monospace\"><span style=\"font-weight: bold\">Model: \"functional\"</span>\n",
              "</pre>\n"
            ]
          },
          "metadata": {}
        },
        {
          "output_type": "display_data",
          "data": {
            "text/plain": [
              "┏━━━━━━━━━━━━━━━━━━━━━━━━━━━━━━━━━━━━━━┳━━━━━━━━━━━━━━━━━━━━━━━━━━━━━┳━━━━━━━━━━━━━━━━━┓\n",
              "┃\u001b[1m \u001b[0m\u001b[1mLayer (type)                        \u001b[0m\u001b[1m \u001b[0m┃\u001b[1m \u001b[0m\u001b[1mOutput Shape               \u001b[0m\u001b[1m \u001b[0m┃\u001b[1m \u001b[0m\u001b[1m        Param #\u001b[0m\u001b[1m \u001b[0m┃\n",
              "┡━━━━━━━━━━━━━━━━━━━━━━━━━━━━━━━━━━━━━━╇━━━━━━━━━━━━━━━━━━━━━━━━━━━━━╇━━━━━━━━━━━━━━━━━┩\n",
              "│ input_layer (\u001b[38;5;33mInputLayer\u001b[0m)             │ (\u001b[38;5;45mNone\u001b[0m, \u001b[38;5;45mNone\u001b[0m)                │               \u001b[38;5;34m0\u001b[0m │\n",
              "├──────────────────────────────────────┼─────────────────────────────┼─────────────────┤\n",
              "│ token_and_position_embedding         │ (\u001b[38;5;45mNone\u001b[0m, \u001b[38;5;45mNone\u001b[0m, \u001b[38;5;34m256\u001b[0m)           │       \u001b[38;5;34m2,580,480\u001b[0m │\n",
              "│ (\u001b[38;5;33mTokenAndPositionEmbedding\u001b[0m)          │                             │                 │\n",
              "├──────────────────────────────────────┼─────────────────────────────┼─────────────────┤\n",
              "│ transformer_block (\u001b[38;5;33mTransformerBlock\u001b[0m) │ [(\u001b[38;5;45mNone\u001b[0m, \u001b[38;5;45mNone\u001b[0m, \u001b[38;5;34m256\u001b[0m), (\u001b[38;5;45mNone\u001b[0m,  │         \u001b[38;5;34m658,688\u001b[0m │\n",
              "│                                      │ \u001b[38;5;34m2\u001b[0m, \u001b[38;5;45mNone\u001b[0m, \u001b[38;5;45mNone\u001b[0m)]             │                 │\n",
              "├──────────────────────────────────────┼─────────────────────────────┼─────────────────┤\n",
              "│ dense_2 (\u001b[38;5;33mDense\u001b[0m)                      │ (\u001b[38;5;45mNone\u001b[0m, \u001b[38;5;45mNone\u001b[0m, \u001b[38;5;34m10000\u001b[0m)         │       \u001b[38;5;34m2,570,000\u001b[0m │\n",
              "└──────────────────────────────────────┴─────────────────────────────┴─────────────────┘\n"
            ],
            "text/html": [
              "<pre style=\"white-space:pre;overflow-x:auto;line-height:normal;font-family:Menlo,'DejaVu Sans Mono',consolas,'Courier New',monospace\">┏━━━━━━━━━━━━━━━━━━━━━━━━━━━━━━━━━━━━━━┳━━━━━━━━━━━━━━━━━━━━━━━━━━━━━┳━━━━━━━━━━━━━━━━━┓\n",
              "┃<span style=\"font-weight: bold\"> Layer (type)                         </span>┃<span style=\"font-weight: bold\"> Output Shape                </span>┃<span style=\"font-weight: bold\">         Param # </span>┃\n",
              "┡━━━━━━━━━━━━━━━━━━━━━━━━━━━━━━━━━━━━━━╇━━━━━━━━━━━━━━━━━━━━━━━━━━━━━╇━━━━━━━━━━━━━━━━━┩\n",
              "│ input_layer (<span style=\"color: #0087ff; text-decoration-color: #0087ff\">InputLayer</span>)             │ (<span style=\"color: #00d7ff; text-decoration-color: #00d7ff\">None</span>, <span style=\"color: #00d7ff; text-decoration-color: #00d7ff\">None</span>)                │               <span style=\"color: #00af00; text-decoration-color: #00af00\">0</span> │\n",
              "├──────────────────────────────────────┼─────────────────────────────┼─────────────────┤\n",
              "│ token_and_position_embedding         │ (<span style=\"color: #00d7ff; text-decoration-color: #00d7ff\">None</span>, <span style=\"color: #00d7ff; text-decoration-color: #00d7ff\">None</span>, <span style=\"color: #00af00; text-decoration-color: #00af00\">256</span>)           │       <span style=\"color: #00af00; text-decoration-color: #00af00\">2,580,480</span> │\n",
              "│ (<span style=\"color: #0087ff; text-decoration-color: #0087ff\">TokenAndPositionEmbedding</span>)          │                             │                 │\n",
              "├──────────────────────────────────────┼─────────────────────────────┼─────────────────┤\n",
              "│ transformer_block (<span style=\"color: #0087ff; text-decoration-color: #0087ff\">TransformerBlock</span>) │ [(<span style=\"color: #00d7ff; text-decoration-color: #00d7ff\">None</span>, <span style=\"color: #00d7ff; text-decoration-color: #00d7ff\">None</span>, <span style=\"color: #00af00; text-decoration-color: #00af00\">256</span>), (<span style=\"color: #00d7ff; text-decoration-color: #00d7ff\">None</span>,  │         <span style=\"color: #00af00; text-decoration-color: #00af00\">658,688</span> │\n",
              "│                                      │ <span style=\"color: #00af00; text-decoration-color: #00af00\">2</span>, <span style=\"color: #00d7ff; text-decoration-color: #00d7ff\">None</span>, <span style=\"color: #00d7ff; text-decoration-color: #00d7ff\">None</span>)]             │                 │\n",
              "├──────────────────────────────────────┼─────────────────────────────┼─────────────────┤\n",
              "│ dense_2 (<span style=\"color: #0087ff; text-decoration-color: #0087ff\">Dense</span>)                      │ (<span style=\"color: #00d7ff; text-decoration-color: #00d7ff\">None</span>, <span style=\"color: #00d7ff; text-decoration-color: #00d7ff\">None</span>, <span style=\"color: #00af00; text-decoration-color: #00af00\">10000</span>)         │       <span style=\"color: #00af00; text-decoration-color: #00af00\">2,570,000</span> │\n",
              "└──────────────────────────────────────┴─────────────────────────────┴─────────────────┘\n",
              "</pre>\n"
            ]
          },
          "metadata": {}
        },
        {
          "output_type": "display_data",
          "data": {
            "text/plain": [
              "\u001b[1m Total params: \u001b[0m\u001b[38;5;34m5,809,168\u001b[0m (22.16 MB)\n"
            ],
            "text/html": [
              "<pre style=\"white-space:pre;overflow-x:auto;line-height:normal;font-family:Menlo,'DejaVu Sans Mono',consolas,'Courier New',monospace\"><span style=\"font-weight: bold\"> Total params: </span><span style=\"color: #00af00; text-decoration-color: #00af00\">5,809,168</span> (22.16 MB)\n",
              "</pre>\n"
            ]
          },
          "metadata": {}
        },
        {
          "output_type": "display_data",
          "data": {
            "text/plain": [
              "\u001b[1m Trainable params: \u001b[0m\u001b[38;5;34m5,809,168\u001b[0m (22.16 MB)\n"
            ],
            "text/html": [
              "<pre style=\"white-space:pre;overflow-x:auto;line-height:normal;font-family:Menlo,'DejaVu Sans Mono',consolas,'Courier New',monospace\"><span style=\"font-weight: bold\"> Trainable params: </span><span style=\"color: #00af00; text-decoration-color: #00af00\">5,809,168</span> (22.16 MB)\n",
              "</pre>\n"
            ]
          },
          "metadata": {}
        },
        {
          "output_type": "display_data",
          "data": {
            "text/plain": [
              "\u001b[1m Non-trainable params: \u001b[0m\u001b[38;5;34m0\u001b[0m (0.00 B)\n"
            ],
            "text/html": [
              "<pre style=\"white-space:pre;overflow-x:auto;line-height:normal;font-family:Menlo,'DejaVu Sans Mono',consolas,'Courier New',monospace\"><span style=\"font-weight: bold\"> Non-trainable params: </span><span style=\"color: #00af00; text-decoration-color: #00af00\">0</span> (0.00 B)\n",
              "</pre>\n"
            ]
          },
          "metadata": {}
        }
      ],
      "source": [
        "gpt.summary()"
      ]
    },
    {
      "cell_type": "code",
      "execution_count": 24,
      "metadata": {
        "id": "m01_g222IO11"
      },
      "outputs": [],
      "source": [
        "if LOAD_MODEL:\n",
        "    # model.load_weights('./models/model')\n",
        "    gpt = models.load_model(\"./models/gpt\", compile=True)"
      ]
    },
    {
      "cell_type": "code",
      "execution_count": 25,
      "metadata": {
        "id": "Ri8AKWQXIR4n"
      },
      "outputs": [],
      "source": [
        "# TextGenerator 체크포인트 만들기\n",
        "class TextGenerator(callbacks.Callback):\n",
        "    def __init__(self, index_to_word, top_k=10):\n",
        "        self.index_to_word = index_to_word\n",
        "        self.word_to_index = {\n",
        "            word: index for index, word in enumerate(index_to_word)\n",
        "        }\n",
        "\n",
        "    def sample_from(self, probs, temperature):\n",
        "        probs = probs ** (1 / temperature)\n",
        "        probs = probs / np.sum(probs)\n",
        "        return np.random.choice(len(probs), p=probs), probs\n",
        "\n",
        "    def generate(self, start_prompt, max_tokens, temperature):\n",
        "        start_tokens = [\n",
        "            self.word_to_index.get(x, 1) for x in start_prompt.split()\n",
        "        ]\n",
        "        sample_token = None\n",
        "        info = []\n",
        "        while len(start_tokens) < max_tokens and sample_token != 0:\n",
        "            x = np.array([start_tokens])\n",
        "            y, att = self.model.predict(x, verbose=0)\n",
        "            sample_token, probs = self.sample_from(y[0][-1], temperature)\n",
        "            info.append(\n",
        "                {\n",
        "                    \"prompt\": start_prompt,\n",
        "                    \"word_probs\": probs,\n",
        "                    \"atts\": att[0, :, -1, :],\n",
        "                }\n",
        "            )\n",
        "            start_tokens.append(sample_token)\n",
        "            start_prompt = start_prompt + \" \" + self.index_to_word[sample_token]\n",
        "        print(f\"\\n생성된 텍스트:\\n{start_prompt}\\n\")\n",
        "        return info\n",
        "\n",
        "    def on_epoch_end(self, epoch, logs=None):\n",
        "        self.generate(\"wine review\", max_tokens=80, temperature=1.0)"
      ]
    },
    {
      "cell_type": "code",
      "execution_count": 26,
      "metadata": {
        "id": "F0G2e8d_IUEM"
      },
      "outputs": [],
      "source": [
        "# 모델 저장 체크포인트 만들기\n",
        "model_checkpoint_callback = callbacks.ModelCheckpoint(\n",
        "    filepath=\"./checkpoint/checkpoint.weights.h5\",\n",
        "    save_weights_only=True,\n",
        "    save_freq=\"epoch\",\n",
        "    verbose=0,\n",
        ")\n",
        "\n",
        "tensorboard_callback = callbacks.TensorBoard(log_dir=\"./logs\")\n",
        "\n",
        "# 시작 프롬프트 토큰화\n",
        "text_generator = TextGenerator(vocab)"
      ]
    },
    {
      "cell_type": "code",
      "execution_count": 27,
      "metadata": {
        "colab": {
          "base_uri": "https://localhost:8080/"
        },
        "id": "ZVbEVMmtIoA3",
        "outputId": "66f49463-1841-4b39-aaa1-5b3eaefcbd69"
      },
      "outputs": [
        {
          "output_type": "stream",
          "name": "stdout",
          "text": [
            "Epoch 1/5\n",
            "\u001b[1m4055/4060\u001b[0m \u001b[32m━━━━━━━━━━━━━━━━━━━\u001b[0m\u001b[37m━\u001b[0m \u001b[1m0s\u001b[0m 11ms/step - loss: 2.5932\n",
            "생성된 텍스트:\n",
            "wine review : italy : veneto : glera : pleasantly [UNK] ' s crown translates their smile to the son , but has is more touches of banana and kiwi fruit on the nose and the wine . below the palate is fresh , with ripe notes of mature apple marmalade , candied hazelnut and lemon drop . \n",
            "\n",
            "\u001b[1m4060/4060\u001b[0m \u001b[32m━━━━━━━━━━━━━━━━━━━━\u001b[0m\u001b[37m\u001b[0m \u001b[1m350s\u001b[0m 78ms/step - loss: 2.5927\n",
            "Epoch 2/5\n",
            "\u001b[1m4057/4060\u001b[0m \u001b[32m━━━━━━━━━━━━━━━━━━━\u001b[0m\u001b[37m━\u001b[0m \u001b[1m0s\u001b[0m 4ms/step - loss: 1.9841\n",
            "생성된 텍스트:\n",
            "wine review : us : california : sauvignon blanc : this is a cool vintage brand , making that was fermented heavily on for up in french oak . it has some browning in color and bristling acidity , despite its high - toned , layering of lemony , flirty flavors . \n",
            "\n",
            "\u001b[1m4060/4060\u001b[0m \u001b[32m━━━━━━━━━━━━━━━━━━━━\u001b[0m\u001b[37m\u001b[0m \u001b[1m20s\u001b[0m 5ms/step - loss: 1.9841\n",
            "Epoch 3/5\n",
            "\u001b[1m4056/4060\u001b[0m \u001b[32m━━━━━━━━━━━━━━━━━━━\u001b[0m\u001b[37m━\u001b[0m \u001b[1m0s\u001b[0m 4ms/step - loss: 1.8943\n",
            "생성된 텍스트:\n",
            "wine review : italy : sicily & sardinia : grillo : inzolia - based aromas of crushed stone , passion fruit and candied citrus give way to a crisp , flinty note . the concentrated palate delivers dried apricot , lime and green herb framed in zesty acidity . \n",
            "\n",
            "\u001b[1m4060/4060\u001b[0m \u001b[32m━━━━━━━━━━━━━━━━━━━━\u001b[0m\u001b[37m\u001b[0m \u001b[1m20s\u001b[0m 5ms/step - loss: 1.8943\n",
            "Epoch 4/5\n",
            "\u001b[1m4050/4060\u001b[0m \u001b[32m━━━━━━━━━━━━━━━━━━━\u001b[0m\u001b[37m━\u001b[0m \u001b[1m0s\u001b[0m 4ms/step - loss: 1.8447\n",
            "생성된 텍스트:\n",
            "wine review : italy : southern italy : aglianico : despite being labeled with bold late - harvest , this is wonderfully expressive and extremely deep of dark fruit , leather and tobacco spice . there ' s a tight , drying note at the close with bitter cherry and prune aromas . \n",
            "\n",
            "\u001b[1m4060/4060\u001b[0m \u001b[32m━━━━━━━━━━━━━━━━━━━━\u001b[0m\u001b[37m\u001b[0m \u001b[1m19s\u001b[0m 5ms/step - loss: 1.8447\n",
            "Epoch 5/5\n",
            "\u001b[1m4056/4060\u001b[0m \u001b[32m━━━━━━━━━━━━━━━━━━━\u001b[0m\u001b[37m━\u001b[0m \u001b[1m0s\u001b[0m 4ms/step - loss: 1.8144\n",
            "생성된 텍스트:\n",
            "wine review : italy : veneto : glera : this prosecco delivers subtle wines that truly [UNK] style may have a strong suit . the wine ' s string , forward fruit and is aged for some needed for extra being [UNK] ' s prosecco , and [UNK] that extra character . on the midpalate is lean and creamy , backed by the structure and [UNK] . \n",
            "\n",
            "\u001b[1m4060/4060\u001b[0m \u001b[32m━━━━━━━━━━━━━━━━━━━━\u001b[0m\u001b[37m\u001b[0m \u001b[1m79s\u001b[0m 20ms/step - loss: 1.8144\n"
          ]
        },
        {
          "output_type": "execute_result",
          "data": {
            "text/plain": [
              "<keras.src.callbacks.history.History at 0x7802d2be0ca0>"
            ]
          },
          "metadata": {},
          "execution_count": 27
        }
      ],
      "source": [
        "gpt.fit(\n",
        "    train_ds,\n",
        "    epochs=EPOCHS,\n",
        "    callbacks=[model_checkpoint_callback, tensorboard_callback, text_generator],\n",
        ")"
      ]
    },
    {
      "cell_type": "code",
      "source": [
        "# 최종 모델 저장\n",
        "gpt.export(\"./models/gpt_saved_model\")"
      ],
      "metadata": {
        "id": "6m5vGBxxRwhY",
        "colab": {
          "base_uri": "https://localhost:8080/"
        },
        "outputId": "9e34fb64-7a7a-4602-fa0e-9254e80dcf4f"
      },
      "execution_count": 28,
      "outputs": [
        {
          "output_type": "stream",
          "name": "stdout",
          "text": [
            "Saved artifact at './models/gpt_saved_model'. The following endpoints are available:\n",
            "\n",
            "* Endpoint 'serve'\n",
            "  args_0 (POSITIONAL_ONLY): TensorSpec(shape=(None, None), dtype=tf.int32, name='keras_tensor')\n",
            "Output Type:\n",
            "  List[TensorSpec(shape=(None, None, 10000), dtype=tf.float32, name=None), TensorSpec(shape=(None, 2, None, None), dtype=tf.float32, name=None)]\n",
            "Captures:\n",
            "  131953519790912: TensorSpec(shape=(), dtype=tf.resource, name=None)\n",
            "  131953525728080: TensorSpec(shape=(), dtype=tf.resource, name=None)\n",
            "  131953525732480: TensorSpec(shape=(), dtype=tf.resource, name=None)\n",
            "  131953519946992: TensorSpec(shape=(), dtype=tf.resource, name=None)\n",
            "  131953519940304: TensorSpec(shape=(), dtype=tf.resource, name=None)\n",
            "  131953519938896: TensorSpec(shape=(), dtype=tf.resource, name=None)\n",
            "  131953519951216: TensorSpec(shape=(), dtype=tf.resource, name=None)\n",
            "  131953519945760: TensorSpec(shape=(), dtype=tf.resource, name=None)\n",
            "  131953519937136: TensorSpec(shape=(), dtype=tf.resource, name=None)\n",
            "  131953519950160: TensorSpec(shape=(), dtype=tf.resource, name=None)\n",
            "  131953519936960: TensorSpec(shape=(), dtype=tf.resource, name=None)\n",
            "  131953519935904: TensorSpec(shape=(), dtype=tf.resource, name=None)\n",
            "  131953519938368: TensorSpec(shape=(), dtype=tf.resource, name=None)\n",
            "  131953519939072: TensorSpec(shape=(), dtype=tf.resource, name=None)\n",
            "  131953519939424: TensorSpec(shape=(), dtype=tf.resource, name=None)\n",
            "  131953519937840: TensorSpec(shape=(), dtype=tf.resource, name=None)\n",
            "  131953518674864: TensorSpec(shape=(), dtype=tf.resource, name=None)\n",
            "  131953208260944: TensorSpec(shape=(), dtype=tf.resource, name=None)\n",
            "  131953208260064: TensorSpec(shape=(), dtype=tf.resource, name=None)\n",
            "  131953518679792: TensorSpec(shape=(), dtype=tf.resource, name=None)\n"
          ]
        }
      ]
    },
    {
      "cell_type": "code",
      "source": [
        "def print_probs(info, vocab, top_k=5):\n",
        "    for i in info:\n",
        "        highlighted_text = []\n",
        "        for word, att_score in zip(\n",
        "            i[\"prompt\"].split(), np.mean(i[\"atts\"], axis=0)\n",
        "        ):\n",
        "            highlighted_text.append(\n",
        "                '<span style=\"background-color:rgba(135,206,250,'\n",
        "                + str(att_score / max(np.mean(i[\"atts\"], axis=0)))\n",
        "                + ');\">'\n",
        "                + word\n",
        "                + \"</span>\"\n",
        "            )\n",
        "        highlighted_text = \" \".join(highlighted_text)\n",
        "        display(HTML(highlighted_text))\n",
        "\n",
        "        word_probs = i[\"word_probs\"]\n",
        "        p_sorted = np.sort(word_probs)[::-1][:top_k]\n",
        "        i_sorted = np.argsort(word_probs)[::-1][:top_k]\n",
        "        for p, i in zip(p_sorted, i_sorted):\n",
        "            print(f\"{vocab[i]}:   \\t{np.round(100*p,2)}%\")\n",
        "        print(\"--------\\n\")"
      ],
      "metadata": {
        "id": "EE5ZHNtDSIjA"
      },
      "execution_count": 29,
      "outputs": []
    },
    {
      "cell_type": "code",
      "source": [
        "info = text_generator.generate(\n",
        "    \"wine review : us\", max_tokens=80, temperature=1.0\n",
        ")"
      ],
      "metadata": {
        "colab": {
          "base_uri": "https://localhost:8080/"
        },
        "id": "fK2Bq1B9SNjc",
        "outputId": "7eefd5d3-b08d-4471-ce6c-796b1f9c3db1"
      },
      "execution_count": 30,
      "outputs": [
        {
          "output_type": "stream",
          "name": "stdout",
          "text": [
            "\n",
            "생성된 텍스트:\n",
            "wine review : us : washington : cabernet sauvignon : this wine is well rendered woodspice , with lighter - styled aromas of cherry fruit . it ' s full bodied and chalky in feel with bright fruit flavors , trailing toward the finish . \n",
            "\n"
          ]
        }
      ]
    },
    {
      "cell_type": "code",
      "source": [
        "info = text_generator.generate(\n",
        "    \"wine review : italy\", max_tokens=80, temperature=0.5\n",
        ")"
      ],
      "metadata": {
        "id": "Rls2dIs8SQz7",
        "outputId": "549d3f32-38d1-4f5a-f199-1dd37bfe657d",
        "colab": {
          "base_uri": "https://localhost:8080/"
        }
      },
      "execution_count": 31,
      "outputs": [
        {
          "output_type": "stream",
          "name": "stdout",
          "text": [
            "\n",
            "생성된 텍스트:\n",
            "wine review : italy : tuscany : sangiovese grosso : this is a big , masculine expression of sangiovese ( with loads of spice and spice . the bouquet is followed by flavors of blackberry , leather , tobacco , vanilla and tobacco . \n",
            "\n"
          ]
        }
      ]
    },
    {
      "cell_type": "code",
      "source": [
        "info = text_generator.generate(\n",
        "    \"wine review : germany\", max_tokens=80, temperature=0.5\n",
        ")\n",
        "print_probs(info, vocab)"
      ],
      "metadata": {
        "id": "ogg1mcZhSTtE",
        "outputId": "5ca818a2-4695-4c86-a9d0-76ca7f9e4d77",
        "colab": {
          "base_uri": "https://localhost:8080/",
          "height": 1000
        }
      },
      "execution_count": 32,
      "outputs": [
        {
          "output_type": "stream",
          "name": "stdout",
          "text": [
            "\n",
            "생성된 텍스트:\n",
            "wine review : germany : mosel : riesling : hints of smoke and earth add complexity to this dry , full - bodied riesling . it ' s brisk and slightly bitter , with a juicy , refreshing finish . \n",
            "\n"
          ]
        },
        {
          "output_type": "display_data",
          "data": {
            "text/plain": [
              "<IPython.core.display.HTML object>"
            ],
            "text/html": [
              "<span style=\"background-color:rgba(135,206,250,0.66219294);\">wine</span> <span style=\"background-color:rgba(135,206,250,1.0);\">review</span> <span style=\"background-color:rgba(135,206,250,0.35058647);\">:</span> <span style=\"background-color:rgba(135,206,250,0.17441224);\">germany</span>"
            ]
          },
          "metadata": {}
        },
        {
          "output_type": "stream",
          "name": "stdout",
          "text": [
            "::   \t100.0%\n",
            "grosso:   \t0.0%\n",
            "-:   \t0.0%\n",
            "zealand:   \t0.0%\n",
            "[UNK]:   \t0.0%\n",
            "--------\n",
            "\n"
          ]
        },
        {
          "output_type": "display_data",
          "data": {
            "text/plain": [
              "<IPython.core.display.HTML object>"
            ],
            "text/html": [
              "<span style=\"background-color:rgba(135,206,250,0.3817307);\">wine</span> <span style=\"background-color:rgba(135,206,250,0.50416946);\">review</span> <span style=\"background-color:rgba(135,206,250,0.21942843);\">:</span> <span style=\"background-color:rgba(135,206,250,1.0);\">germany</span> <span style=\"background-color:rgba(135,206,250,0.20347327);\">:</span>"
            ]
          },
          "metadata": {}
        },
        {
          "output_type": "stream",
          "name": "stdout",
          "text": [
            "mosel:   \t71.14%\n",
            "pfalz:   \t14.03%\n",
            "rheingau:   \t11.46%\n",
            "rheinhessen:   \t1.45%\n",
            "baden:   \t1.07%\n",
            "--------\n",
            "\n"
          ]
        },
        {
          "output_type": "display_data",
          "data": {
            "text/plain": [
              "<IPython.core.display.HTML object>"
            ],
            "text/html": [
              "<span style=\"background-color:rgba(135,206,250,0.82597333);\">wine</span> <span style=\"background-color:rgba(135,206,250,1.0);\">review</span> <span style=\"background-color:rgba(135,206,250,0.34136674);\">:</span> <span style=\"background-color:rgba(135,206,250,0.22867128);\">germany</span> <span style=\"background-color:rgba(135,206,250,0.48555624);\">:</span> <span style=\"background-color:rgba(135,206,250,0.27423212);\">mosel</span>"
            ]
          },
          "metadata": {}
        },
        {
          "output_type": "stream",
          "name": "stdout",
          "text": [
            "::   \t61.47%\n",
            "-:   \t38.52%\n",
            "grosso:   \t0.0%\n",
            "[UNK]:   \t0.0%\n",
            "other:   \t0.0%\n",
            "--------\n",
            "\n"
          ]
        },
        {
          "output_type": "display_data",
          "data": {
            "text/plain": [
              "<IPython.core.display.HTML object>"
            ],
            "text/html": [
              "<span style=\"background-color:rgba(135,206,250,0.34037715);\">wine</span> <span style=\"background-color:rgba(135,206,250,0.42187318);\">review</span> <span style=\"background-color:rgba(135,206,250,0.18299532);\">:</span> <span style=\"background-color:rgba(135,206,250,0.47774774);\">germany</span> <span style=\"background-color:rgba(135,206,250,0.10777256);\">:</span> <span style=\"background-color:rgba(135,206,250,1.0);\">mosel</span> <span style=\"background-color:rgba(135,206,250,0.14953372);\">:</span>"
            ]
          },
          "metadata": {}
        },
        {
          "output_type": "stream",
          "name": "stdout",
          "text": [
            "riesling:   \t99.99%\n",
            "pinot:   \t0.0%\n",
            "gewürztraminer:   \t0.0%\n",
            "spätburgunder:   \t0.0%\n",
            "grüner:   \t0.0%\n",
            "--------\n",
            "\n"
          ]
        },
        {
          "output_type": "display_data",
          "data": {
            "text/plain": [
              "<IPython.core.display.HTML object>"
            ],
            "text/html": [
              "<span style=\"background-color:rgba(135,206,250,0.8204759);\">wine</span> <span style=\"background-color:rgba(135,206,250,1.0);\">review</span> <span style=\"background-color:rgba(135,206,250,0.19829065);\">:</span> <span style=\"background-color:rgba(135,206,250,0.2012904);\">germany</span> <span style=\"background-color:rgba(135,206,250,0.21252647);\">:</span> <span style=\"background-color:rgba(135,206,250,0.28439415);\">mosel</span> <span style=\"background-color:rgba(135,206,250,0.257958);\">:</span> <span style=\"background-color:rgba(135,206,250,0.14177632);\">riesling</span>"
            ]
          },
          "metadata": {}
        },
        {
          "output_type": "stream",
          "name": "stdout",
          "text": [
            "::   \t100.0%\n",
            "-:   \t0.0%\n",
            "grosso:   \t0.0%\n",
            "blanc:   \t0.0%\n",
            "[UNK]:   \t0.0%\n",
            "--------\n",
            "\n"
          ]
        },
        {
          "output_type": "display_data",
          "data": {
            "text/plain": [
              "<IPython.core.display.HTML object>"
            ],
            "text/html": [
              "<span style=\"background-color:rgba(135,206,250,0.63924307);\">wine</span> <span style=\"background-color:rgba(135,206,250,0.7537473);\">review</span> <span style=\"background-color:rgba(135,206,250,0.26974794);\">:</span> <span style=\"background-color:rgba(135,206,250,0.6359402);\">germany</span> <span style=\"background-color:rgba(135,206,250,0.22215278);\">:</span> <span style=\"background-color:rgba(135,206,250,1.0);\">mosel</span> <span style=\"background-color:rgba(135,206,250,0.33742326);\">:</span> <span style=\"background-color:rgba(135,206,250,0.6562438);\">riesling</span> <span style=\"background-color:rgba(135,206,250,0.38506386);\">:</span>"
            ]
          },
          "metadata": {}
        },
        {
          "output_type": "stream",
          "name": "stdout",
          "text": [
            "whiffs:   \t36.54%\n",
            "a:   \t19.81%\n",
            "while:   \t10.64%\n",
            "this:   \t9.45%\n",
            "the:   \t9.3%\n",
            "--------\n",
            "\n"
          ]
        },
        {
          "output_type": "display_data",
          "data": {
            "text/plain": [
              "<IPython.core.display.HTML object>"
            ],
            "text/html": [
              "<span style=\"background-color:rgba(135,206,250,0.6776961);\">wine</span> <span style=\"background-color:rgba(135,206,250,1.0);\">review</span> <span style=\"background-color:rgba(135,206,250,0.15776363);\">:</span> <span style=\"background-color:rgba(135,206,250,0.10859796);\">germany</span> <span style=\"background-color:rgba(135,206,250,0.19971676);\">:</span> <span style=\"background-color:rgba(135,206,250,0.1781247);\">mosel</span> <span style=\"background-color:rgba(135,206,250,0.11178661);\">:</span> <span style=\"background-color:rgba(135,206,250,0.15903245);\">riesling</span> <span style=\"background-color:rgba(135,206,250,0.21848354);\">:</span> <span style=\"background-color:rgba(135,206,250,0.12715296);\">hints</span>"
            ]
          },
          "metadata": {}
        },
        {
          "output_type": "stream",
          "name": "stdout",
          "text": [
            "of:   \t100.0%\n",
            "at:   \t0.0%\n",
            "suggesting:   \t0.0%\n",
            "and:   \t0.0%\n",
            "from:   \t0.0%\n",
            "--------\n",
            "\n"
          ]
        },
        {
          "output_type": "display_data",
          "data": {
            "text/plain": [
              "<IPython.core.display.HTML object>"
            ],
            "text/html": [
              "<span style=\"background-color:rgba(135,206,250,0.5695754);\">wine</span> <span style=\"background-color:rgba(135,206,250,0.6016228);\">review</span> <span style=\"background-color:rgba(135,206,250,0.18596652);\">:</span> <span style=\"background-color:rgba(135,206,250,0.3100673);\">germany</span> <span style=\"background-color:rgba(135,206,250,0.16087796);\">:</span> <span style=\"background-color:rgba(135,206,250,0.47524288);\">mosel</span> <span style=\"background-color:rgba(135,206,250,0.17540693);\">:</span> <span style=\"background-color:rgba(135,206,250,0.37486976);\">riesling</span> <span style=\"background-color:rgba(135,206,250,0.24935883);\">:</span> <span style=\"background-color:rgba(135,206,250,1.0);\">hints</span> <span style=\"background-color:rgba(135,206,250,0.19116458);\">of</span>"
            ]
          },
          "metadata": {}
        },
        {
          "output_type": "stream",
          "name": "stdout",
          "text": [
            "smoke:   \t58.4%\n",
            "struck:   \t6.42%\n",
            "crushed:   \t6.17%\n",
            "saffron:   \t3.76%\n",
            "mineral:   \t3.74%\n",
            "--------\n",
            "\n"
          ]
        },
        {
          "output_type": "display_data",
          "data": {
            "text/plain": [
              "<IPython.core.display.HTML object>"
            ],
            "text/html": [
              "<span style=\"background-color:rgba(135,206,250,0.95101523);\">wine</span> <span style=\"background-color:rgba(135,206,250,1.0);\">review</span> <span style=\"background-color:rgba(135,206,250,0.09322152);\">:</span> <span style=\"background-color:rgba(135,206,250,0.33684647);\">germany</span> <span style=\"background-color:rgba(135,206,250,0.1799579);\">:</span> <span style=\"background-color:rgba(135,206,250,0.13388602);\">mosel</span> <span style=\"background-color:rgba(135,206,250,0.13852035);\">:</span> <span style=\"background-color:rgba(135,206,250,0.13697213);\">riesling</span> <span style=\"background-color:rgba(135,206,250,0.21890423);\">:</span> <span style=\"background-color:rgba(135,206,250,0.9345318);\">hints</span> <span style=\"background-color:rgba(135,206,250,0.59728813);\">of</span> <span style=\"background-color:rgba(135,206,250,0.40677312);\">smoke</span>"
            ]
          },
          "metadata": {}
        },
        {
          "output_type": "stream",
          "name": "stdout",
          "text": [
            "and:   \t96.48%\n",
            ",:   \t3.49%\n",
            "add:   \t0.02%\n",
            "accent:   \t0.01%\n",
            "[UNK]:   \t0.0%\n",
            "--------\n",
            "\n"
          ]
        },
        {
          "output_type": "display_data",
          "data": {
            "text/plain": [
              "<IPython.core.display.HTML object>"
            ],
            "text/html": [
              "<span style=\"background-color:rgba(135,206,250,0.35630205);\">wine</span> <span style=\"background-color:rgba(135,206,250,0.43467298);\">review</span> <span style=\"background-color:rgba(135,206,250,0.10979486);\">:</span> <span style=\"background-color:rgba(135,206,250,0.25189835);\">germany</span> <span style=\"background-color:rgba(135,206,250,0.09666284);\">:</span> <span style=\"background-color:rgba(135,206,250,0.2760793);\">mosel</span> <span style=\"background-color:rgba(135,206,250,0.08882445);\">:</span> <span style=\"background-color:rgba(135,206,250,0.2905758);\">riesling</span> <span style=\"background-color:rgba(135,206,250,0.14198671);\">:</span> <span style=\"background-color:rgba(135,206,250,0.38959318);\">hints</span> <span style=\"background-color:rgba(135,206,250,0.24998987);\">of</span> <span style=\"background-color:rgba(135,206,250,1.0);\">smoke</span> <span style=\"background-color:rgba(135,206,250,0.1875124);\">and</span>"
            ]
          },
          "metadata": {}
        },
        {
          "output_type": "stream",
          "name": "stdout",
          "text": [
            "earth:   \t16.34%\n",
            "smoke:   \t14.51%\n",
            "crushed:   \t12.48%\n",
            "slate:   \t11.01%\n",
            "struck:   \t8.32%\n",
            "--------\n",
            "\n"
          ]
        },
        {
          "output_type": "display_data",
          "data": {
            "text/plain": [
              "<IPython.core.display.HTML object>"
            ],
            "text/html": [
              "<span style=\"background-color:rgba(135,206,250,0.90805244);\">wine</span> <span style=\"background-color:rgba(135,206,250,1.0);\">review</span> <span style=\"background-color:rgba(135,206,250,0.10202265);\">:</span> <span style=\"background-color:rgba(135,206,250,0.37904856);\">germany</span> <span style=\"background-color:rgba(135,206,250,0.20378603);\">:</span> <span style=\"background-color:rgba(135,206,250,0.11992723);\">mosel</span> <span style=\"background-color:rgba(135,206,250,0.17675135);\">:</span> <span style=\"background-color:rgba(135,206,250,0.11222539);\">riesling</span> <span style=\"background-color:rgba(135,206,250,0.19870499);\">:</span> <span style=\"background-color:rgba(135,206,250,0.68758535);\">hints</span> <span style=\"background-color:rgba(135,206,250,0.5265828);\">of</span> <span style=\"background-color:rgba(135,206,250,0.2521673);\">smoke</span> <span style=\"background-color:rgba(135,206,250,0.6917565);\">and</span> <span style=\"background-color:rgba(135,206,250,0.35399684);\">earth</span>"
            ]
          },
          "metadata": {}
        },
        {
          "output_type": "stream",
          "name": "stdout",
          "text": [
            "lend:   \t59.45%\n",
            "add:   \t36.19%\n",
            "accent:   \t2.05%\n",
            "mingle:   \t0.78%\n",
            "permeate:   \t0.34%\n",
            "--------\n",
            "\n"
          ]
        },
        {
          "output_type": "display_data",
          "data": {
            "text/plain": [
              "<IPython.core.display.HTML object>"
            ],
            "text/html": [
              "<span style=\"background-color:rgba(135,206,250,0.69111025);\">wine</span> <span style=\"background-color:rgba(135,206,250,1.0);\">review</span> <span style=\"background-color:rgba(135,206,250,0.25131878);\">:</span> <span style=\"background-color:rgba(135,206,250,0.36717767);\">germany</span> <span style=\"background-color:rgba(135,206,250,0.23049864);\">:</span> <span style=\"background-color:rgba(135,206,250,0.34972712);\">mosel</span> <span style=\"background-color:rgba(135,206,250,0.1982417);\">:</span> <span style=\"background-color:rgba(135,206,250,0.22030327);\">riesling</span> <span style=\"background-color:rgba(135,206,250,0.21613294);\">:</span> <span style=\"background-color:rgba(135,206,250,0.31116226);\">hints</span> <span style=\"background-color:rgba(135,206,250,0.2488353);\">of</span> <span style=\"background-color:rgba(135,206,250,0.4346222);\">smoke</span> <span style=\"background-color:rgba(135,206,250,0.35640875);\">and</span> <span style=\"background-color:rgba(135,206,250,0.577071);\">earth</span> <span style=\"background-color:rgba(135,206,250,0.40894568);\">add</span>"
            ]
          },
          "metadata": {}
        },
        {
          "output_type": "stream",
          "name": "stdout",
          "text": [
            "complexity:   \t90.9%\n",
            "nuance:   \t4.29%\n",
            "depth:   \t2.07%\n",
            "a:   \t1.14%\n",
            "to:   \t0.61%\n",
            "--------\n",
            "\n"
          ]
        },
        {
          "output_type": "display_data",
          "data": {
            "text/plain": [
              "<IPython.core.display.HTML object>"
            ],
            "text/html": [
              "<span style=\"background-color:rgba(135,206,250,0.43712154);\">wine</span> <span style=\"background-color:rgba(135,206,250,0.6849571);\">review</span> <span style=\"background-color:rgba(135,206,250,0.08109994);\">:</span> <span style=\"background-color:rgba(135,206,250,0.19540653);\">germany</span> <span style=\"background-color:rgba(135,206,250,0.10559828);\">:</span> <span style=\"background-color:rgba(135,206,250,0.09468415);\">mosel</span> <span style=\"background-color:rgba(135,206,250,0.09346408);\">:</span> <span style=\"background-color:rgba(135,206,250,0.07825984);\">riesling</span> <span style=\"background-color:rgba(135,206,250,0.11322408);\">:</span> <span style=\"background-color:rgba(135,206,250,0.22489217);\">hints</span> <span style=\"background-color:rgba(135,206,250,0.16436295);\">of</span> <span style=\"background-color:rgba(135,206,250,0.0976977);\">smoke</span> <span style=\"background-color:rgba(135,206,250,0.22093612);\">and</span> <span style=\"background-color:rgba(135,206,250,0.1478978);\">earth</span> <span style=\"background-color:rgba(135,206,250,1.0);\">add</span> <span style=\"background-color:rgba(135,206,250,0.2754394);\">complexity</span>"
            ]
          },
          "metadata": {}
        },
        {
          "output_type": "stream",
          "name": "stdout",
          "text": [
            "to:   \t100.0%\n",
            "and:   \t0.0%\n",
            ",:   \t0.0%\n",
            "in:   \t0.0%\n",
            ".:   \t0.0%\n",
            "--------\n",
            "\n"
          ]
        },
        {
          "output_type": "display_data",
          "data": {
            "text/plain": [
              "<IPython.core.display.HTML object>"
            ],
            "text/html": [
              "<span style=\"background-color:rgba(135,206,250,0.3958604);\">wine</span> <span style=\"background-color:rgba(135,206,250,0.54872394);\">review</span> <span style=\"background-color:rgba(135,206,250,0.10410489);\">:</span> <span style=\"background-color:rgba(135,206,250,0.3124107);\">germany</span> <span style=\"background-color:rgba(135,206,250,0.12794924);\">:</span> <span style=\"background-color:rgba(135,206,250,0.20880556);\">mosel</span> <span style=\"background-color:rgba(135,206,250,0.097551234);\">:</span> <span style=\"background-color:rgba(135,206,250,0.24679032);\">riesling</span> <span style=\"background-color:rgba(135,206,250,0.11226943);\">:</span> <span style=\"background-color:rgba(135,206,250,0.19565393);\">hints</span> <span style=\"background-color:rgba(135,206,250,0.10355431);\">of</span> <span style=\"background-color:rgba(135,206,250,0.17161551);\">smoke</span> <span style=\"background-color:rgba(135,206,250,0.11690686);\">and</span> <span style=\"background-color:rgba(135,206,250,0.24369542);\">earth</span> <span style=\"background-color:rgba(135,206,250,1.0);\">add</span> <span style=\"background-color:rgba(135,206,250,0.7367166);\">complexity</span> <span style=\"background-color:rgba(135,206,250,0.11719455);\">to</span>"
            ]
          },
          "metadata": {}
        },
        {
          "output_type": "stream",
          "name": "stdout",
          "text": [
            "this:   \t55.57%\n",
            "the:   \t37.27%\n",
            "pristine:   \t2.52%\n",
            "a:   \t1.94%\n",
            "fresh:   \t0.67%\n",
            "--------\n",
            "\n"
          ]
        },
        {
          "output_type": "display_data",
          "data": {
            "text/plain": [
              "<IPython.core.display.HTML object>"
            ],
            "text/html": [
              "<span style=\"background-color:rgba(135,206,250,0.5307988);\">wine</span> <span style=\"background-color:rgba(135,206,250,1.0);\">review</span> <span style=\"background-color:rgba(135,206,250,0.13383774);\">:</span> <span style=\"background-color:rgba(135,206,250,0.65451753);\">germany</span> <span style=\"background-color:rgba(135,206,250,0.09893164);\">:</span> <span style=\"background-color:rgba(135,206,250,0.48986837);\">mosel</span> <span style=\"background-color:rgba(135,206,250,0.14927875);\">:</span> <span style=\"background-color:rgba(135,206,250,0.46676707);\">riesling</span> <span style=\"background-color:rgba(135,206,250,0.1734993);\">:</span> <span style=\"background-color:rgba(135,206,250,0.34626064);\">hints</span> <span style=\"background-color:rgba(135,206,250,0.1534621);\">of</span> <span style=\"background-color:rgba(135,206,250,0.17395318);\">smoke</span> <span style=\"background-color:rgba(135,206,250,0.14140528);\">and</span> <span style=\"background-color:rgba(135,206,250,0.21082869);\">earth</span> <span style=\"background-color:rgba(135,206,250,0.37243816);\">add</span> <span style=\"background-color:rgba(135,206,250,0.35745955);\">complexity</span> <span style=\"background-color:rgba(135,206,250,0.40403992);\">to</span> <span style=\"background-color:rgba(135,206,250,0.17899564);\">this</span>"
            ]
          },
          "metadata": {}
        },
        {
          "output_type": "stream",
          "name": "stdout",
          "text": [
            "dry:   \t61.58%\n",
            "off:   \t9.54%\n",
            "elegant:   \t3.54%\n",
            "invigorating:   \t3.23%\n",
            "sprightly:   \t2.38%\n",
            "--------\n",
            "\n"
          ]
        },
        {
          "output_type": "display_data",
          "data": {
            "text/plain": [
              "<IPython.core.display.HTML object>"
            ],
            "text/html": [
              "<span style=\"background-color:rgba(135,206,250,0.43771368);\">wine</span> <span style=\"background-color:rgba(135,206,250,0.5461094);\">review</span> <span style=\"background-color:rgba(135,206,250,0.053891);\">:</span> <span style=\"background-color:rgba(135,206,250,0.36102208);\">germany</span> <span style=\"background-color:rgba(135,206,250,0.060637925);\">:</span> <span style=\"background-color:rgba(135,206,250,0.27733058);\">mosel</span> <span style=\"background-color:rgba(135,206,250,0.08200713);\">:</span> <span style=\"background-color:rgba(135,206,250,0.5355968);\">riesling</span> <span style=\"background-color:rgba(135,206,250,0.10871842);\">:</span> <span style=\"background-color:rgba(135,206,250,0.20854548);\">hints</span> <span style=\"background-color:rgba(135,206,250,0.16858882);\">of</span> <span style=\"background-color:rgba(135,206,250,0.15195236);\">smoke</span> <span style=\"background-color:rgba(135,206,250,0.11793162);\">and</span> <span style=\"background-color:rgba(135,206,250,0.20086221);\">earth</span> <span style=\"background-color:rgba(135,206,250,0.5847561);\">add</span> <span style=\"background-color:rgba(135,206,250,0.4025793);\">complexity</span> <span style=\"background-color:rgba(135,206,250,0.4608865);\">to</span> <span style=\"background-color:rgba(135,206,250,1.0);\">this</span> <span style=\"background-color:rgba(135,206,250,0.19973505);\">dry</span>"
            ]
          },
          "metadata": {}
        },
        {
          "output_type": "stream",
          "name": "stdout",
          "text": [
            ",:   \t96.49%\n",
            "riesling:   \t3.15%\n",
            "-:   \t0.19%\n",
            "yet:   \t0.06%\n",
            "wine:   \t0.05%\n",
            "--------\n",
            "\n"
          ]
        },
        {
          "output_type": "display_data",
          "data": {
            "text/plain": [
              "<IPython.core.display.HTML object>"
            ],
            "text/html": [
              "<span style=\"background-color:rgba(135,206,250,0.47120938);\">wine</span> <span style=\"background-color:rgba(135,206,250,0.74323833);\">review</span> <span style=\"background-color:rgba(135,206,250,0.09284127);\">:</span> <span style=\"background-color:rgba(135,206,250,0.52897716);\">germany</span> <span style=\"background-color:rgba(135,206,250,0.08824561);\">:</span> <span style=\"background-color:rgba(135,206,250,0.25728136);\">mosel</span> <span style=\"background-color:rgba(135,206,250,0.112302676);\">:</span> <span style=\"background-color:rgba(135,206,250,0.40915048);\">riesling</span> <span style=\"background-color:rgba(135,206,250,0.18217975);\">:</span> <span style=\"background-color:rgba(135,206,250,0.30585143);\">hints</span> <span style=\"background-color:rgba(135,206,250,0.19012266);\">of</span> <span style=\"background-color:rgba(135,206,250,0.25892073);\">smoke</span> <span style=\"background-color:rgba(135,206,250,0.22946969);\">and</span> <span style=\"background-color:rgba(135,206,250,0.3440362);\">earth</span> <span style=\"background-color:rgba(135,206,250,0.7184818);\">add</span> <span style=\"background-color:rgba(135,206,250,0.48376414);\">complexity</span> <span style=\"background-color:rgba(135,206,250,0.45090303);\">to</span> <span style=\"background-color:rgba(135,206,250,0.8877779);\">this</span> <span style=\"background-color:rgba(135,206,250,1.0);\">dry</span> <span style=\"background-color:rgba(135,206,250,0.4695991);\">,</span>"
            ]
          },
          "metadata": {}
        },
        {
          "output_type": "stream",
          "name": "stdout",
          "text": [
            "richly:   \t28.2%\n",
            "full:   \t20.16%\n",
            "invigorating:   \t8.79%\n",
            "intensely:   \t4.48%\n",
            "savory:   \t4.42%\n",
            "--------\n",
            "\n"
          ]
        },
        {
          "output_type": "display_data",
          "data": {
            "text/plain": [
              "<IPython.core.display.HTML object>"
            ],
            "text/html": [
              "<span style=\"background-color:rgba(135,206,250,0.686202);\">wine</span> <span style=\"background-color:rgba(135,206,250,1.0);\">review</span> <span style=\"background-color:rgba(135,206,250,0.137291);\">:</span> <span style=\"background-color:rgba(135,206,250,0.46573138);\">germany</span> <span style=\"background-color:rgba(135,206,250,0.16000383);\">:</span> <span style=\"background-color:rgba(135,206,250,0.23778488);\">mosel</span> <span style=\"background-color:rgba(135,206,250,0.13844901);\">:</span> <span style=\"background-color:rgba(135,206,250,0.27839547);\">riesling</span> <span style=\"background-color:rgba(135,206,250,0.14372993);\">:</span> <span style=\"background-color:rgba(135,206,250,0.16503607);\">hints</span> <span style=\"background-color:rgba(135,206,250,0.19651319);\">of</span> <span style=\"background-color:rgba(135,206,250,0.14884026);\">smoke</span> <span style=\"background-color:rgba(135,206,250,0.13188075);\">and</span> <span style=\"background-color:rgba(135,206,250,0.22381288);\">earth</span> <span style=\"background-color:rgba(135,206,250,0.38234642);\">add</span> <span style=\"background-color:rgba(135,206,250,0.33990002);\">complexity</span> <span style=\"background-color:rgba(135,206,250,0.28303248);\">to</span> <span style=\"background-color:rgba(135,206,250,0.69775724);\">this</span> <span style=\"background-color:rgba(135,206,250,0.28588507);\">dry</span> <span style=\"background-color:rgba(135,206,250,0.68844426);\">,</span> <span style=\"background-color:rgba(135,206,250,0.2790359);\">full</span>"
            ]
          },
          "metadata": {}
        },
        {
          "output_type": "stream",
          "name": "stdout",
          "text": [
            "-:   \t100.0%\n",
            "bodied:   \t0.0%\n",
            ",:   \t0.0%\n",
            "and:   \t0.0%\n",
            "wine:   \t0.0%\n",
            "--------\n",
            "\n"
          ]
        },
        {
          "output_type": "display_data",
          "data": {
            "text/plain": [
              "<IPython.core.display.HTML object>"
            ],
            "text/html": [
              "<span style=\"background-color:rgba(135,206,250,0.2588758);\">wine</span> <span style=\"background-color:rgba(135,206,250,0.39534792);\">review</span> <span style=\"background-color:rgba(135,206,250,0.050820325);\">:</span> <span style=\"background-color:rgba(135,206,250,0.21205707);\">germany</span> <span style=\"background-color:rgba(135,206,250,0.061694033);\">:</span> <span style=\"background-color:rgba(135,206,250,0.16363274);\">mosel</span> <span style=\"background-color:rgba(135,206,250,0.05863936);\">:</span> <span style=\"background-color:rgba(135,206,250,0.22212571);\">riesling</span> <span style=\"background-color:rgba(135,206,250,0.0805526);\">:</span> <span style=\"background-color:rgba(135,206,250,0.09525111);\">hints</span> <span style=\"background-color:rgba(135,206,250,0.08650721);\">of</span> <span style=\"background-color:rgba(135,206,250,0.08671735);\">smoke</span> <span style=\"background-color:rgba(135,206,250,0.06124626);\">and</span> <span style=\"background-color:rgba(135,206,250,0.11191226);\">earth</span> <span style=\"background-color:rgba(135,206,250,0.17346765);\">add</span> <span style=\"background-color:rgba(135,206,250,0.14651996);\">complexity</span> <span style=\"background-color:rgba(135,206,250,0.16212171);\">to</span> <span style=\"background-color:rgba(135,206,250,0.26062366);\">this</span> <span style=\"background-color:rgba(135,206,250,0.3998768);\">dry</span> <span style=\"background-color:rgba(135,206,250,0.2145872);\">,</span> <span style=\"background-color:rgba(135,206,250,1.0);\">full</span> <span style=\"background-color:rgba(135,206,250,0.0842766);\">-</span>"
            ]
          },
          "metadata": {}
        },
        {
          "output_type": "stream",
          "name": "stdout",
          "text": [
            "bodied:   \t99.99%\n",
            "fruited:   \t0.01%\n",
            "figured:   \t0.0%\n",
            "flavored:   \t0.0%\n",
            "footed:   \t0.0%\n",
            "--------\n",
            "\n"
          ]
        },
        {
          "output_type": "display_data",
          "data": {
            "text/plain": [
              "<IPython.core.display.HTML object>"
            ],
            "text/html": [
              "<span style=\"background-color:rgba(135,206,250,0.7960839);\">wine</span> <span style=\"background-color:rgba(135,206,250,1.0);\">review</span> <span style=\"background-color:rgba(135,206,250,0.08971407);\">:</span> <span style=\"background-color:rgba(135,206,250,0.7392474);\">germany</span> <span style=\"background-color:rgba(135,206,250,0.096011676);\">:</span> <span style=\"background-color:rgba(135,206,250,0.4231706);\">mosel</span> <span style=\"background-color:rgba(135,206,250,0.14798923);\">:</span> <span style=\"background-color:rgba(135,206,250,0.6997499);\">riesling</span> <span style=\"background-color:rgba(135,206,250,0.19883618);\">:</span> <span style=\"background-color:rgba(135,206,250,0.38944167);\">hints</span> <span style=\"background-color:rgba(135,206,250,0.18569675);\">of</span> <span style=\"background-color:rgba(135,206,250,0.11778579);\">smoke</span> <span style=\"background-color:rgba(135,206,250,0.14783722);\">and</span> <span style=\"background-color:rgba(135,206,250,0.12897523);\">earth</span> <span style=\"background-color:rgba(135,206,250,0.36380067);\">add</span> <span style=\"background-color:rgba(135,206,250,0.24690321);\">complexity</span> <span style=\"background-color:rgba(135,206,250,0.2795962);\">to</span> <span style=\"background-color:rgba(135,206,250,0.9535982);\">this</span> <span style=\"background-color:rgba(135,206,250,0.21340482);\">dry</span> <span style=\"background-color:rgba(135,206,250,0.5661448);\">,</span> <span style=\"background-color:rgba(135,206,250,0.33853328);\">full</span> <span style=\"background-color:rgba(135,206,250,0.34221262);\">-</span> <span style=\"background-color:rgba(135,206,250,0.41949785);\">bodied</span>"
            ]
          },
          "metadata": {}
        },
        {
          "output_type": "stream",
          "name": "stdout",
          "text": [
            "riesling:   \t98.88%\n",
            "kabinett:   \t0.51%\n",
            "wine:   \t0.22%\n",
            "white:   \t0.2%\n",
            "spätlese:   \t0.07%\n",
            "--------\n",
            "\n"
          ]
        },
        {
          "output_type": "display_data",
          "data": {
            "text/plain": [
              "<IPython.core.display.HTML object>"
            ],
            "text/html": [
              "<span style=\"background-color:rgba(135,206,250,0.5603821);\">wine</span> <span style=\"background-color:rgba(135,206,250,1.0);\">review</span> <span style=\"background-color:rgba(135,206,250,0.06118945);\">:</span> <span style=\"background-color:rgba(135,206,250,0.3286989);\">germany</span> <span style=\"background-color:rgba(135,206,250,0.06260031);\">:</span> <span style=\"background-color:rgba(135,206,250,0.11226597);\">mosel</span> <span style=\"background-color:rgba(135,206,250,0.10365535);\">:</span> <span style=\"background-color:rgba(135,206,250,0.09280648);\">riesling</span> <span style=\"background-color:rgba(135,206,250,0.1318556);\">:</span> <span style=\"background-color:rgba(135,206,250,0.33707827);\">hints</span> <span style=\"background-color:rgba(135,206,250,0.113195315);\">of</span> <span style=\"background-color:rgba(135,206,250,0.07114356);\">smoke</span> <span style=\"background-color:rgba(135,206,250,0.09099567);\">and</span> <span style=\"background-color:rgba(135,206,250,0.0973454);\">earth</span> <span style=\"background-color:rgba(135,206,250,0.3453497);\">add</span> <span style=\"background-color:rgba(135,206,250,0.14682025);\">complexity</span> <span style=\"background-color:rgba(135,206,250,0.20188202);\">to</span> <span style=\"background-color:rgba(135,206,250,0.32735902);\">this</span> <span style=\"background-color:rgba(135,206,250,0.13541326);\">dry</span> <span style=\"background-color:rgba(135,206,250,0.3356156);\">,</span> <span style=\"background-color:rgba(135,206,250,0.34840715);\">full</span> <span style=\"background-color:rgba(135,206,250,0.2307574);\">-</span> <span style=\"background-color:rgba(135,206,250,0.36653697);\">bodied</span> <span style=\"background-color:rgba(135,206,250,0.39430413);\">riesling</span>"
            ]
          },
          "metadata": {}
        },
        {
          "output_type": "stream",
          "name": "stdout",
          "text": [
            ".:   \t99.92%\n",
            ",:   \t0.03%\n",
            "that:   \t0.03%\n",
            "full:   \t0.01%\n",
            "with:   \t0.01%\n",
            "--------\n",
            "\n"
          ]
        },
        {
          "output_type": "display_data",
          "data": {
            "text/plain": [
              "<IPython.core.display.HTML object>"
            ],
            "text/html": [
              "<span style=\"background-color:rgba(135,206,250,0.5220564);\">wine</span> <span style=\"background-color:rgba(135,206,250,1.0);\">review</span> <span style=\"background-color:rgba(135,206,250,0.1289284);\">:</span> <span style=\"background-color:rgba(135,206,250,0.9936085);\">germany</span> <span style=\"background-color:rgba(135,206,250,0.107638344);\">:</span> <span style=\"background-color:rgba(135,206,250,0.26328713);\">mosel</span> <span style=\"background-color:rgba(135,206,250,0.19947505);\">:</span> <span style=\"background-color:rgba(135,206,250,0.29807678);\">riesling</span> <span style=\"background-color:rgba(135,206,250,0.154188);\">:</span> <span style=\"background-color:rgba(135,206,250,0.124433525);\">hints</span> <span style=\"background-color:rgba(135,206,250,0.07369258);\">of</span> <span style=\"background-color:rgba(135,206,250,0.08705749);\">smoke</span> <span style=\"background-color:rgba(135,206,250,0.064822264);\">and</span> <span style=\"background-color:rgba(135,206,250,0.09493066);\">earth</span> <span style=\"background-color:rgba(135,206,250,0.192354);\">add</span> <span style=\"background-color:rgba(135,206,250,0.12035203);\">complexity</span> <span style=\"background-color:rgba(135,206,250,0.07391174);\">to</span> <span style=\"background-color:rgba(135,206,250,0.21480866);\">this</span> <span style=\"background-color:rgba(135,206,250,0.11658417);\">dry</span> <span style=\"background-color:rgba(135,206,250,0.08495444);\">,</span> <span style=\"background-color:rgba(135,206,250,0.101325214);\">full</span> <span style=\"background-color:rgba(135,206,250,0.06926804);\">-</span> <span style=\"background-color:rgba(135,206,250,0.14617193);\">bodied</span> <span style=\"background-color:rgba(135,206,250,0.27336586);\">riesling</span> <span style=\"background-color:rgba(135,206,250,0.32306546);\">.</span>"
            ]
          },
          "metadata": {}
        },
        {
          "output_type": "stream",
          "name": "stdout",
          "text": [
            "it:   \t73.71%\n",
            "the:   \t14.57%\n",
            "sunny:   \t4.6%\n",
            "ripe:   \t0.91%\n",
            "while:   \t0.9%\n",
            "--------\n",
            "\n"
          ]
        },
        {
          "output_type": "display_data",
          "data": {
            "text/plain": [
              "<IPython.core.display.HTML object>"
            ],
            "text/html": [
              "<span style=\"background-color:rgba(135,206,250,0.3922065);\">wine</span> <span style=\"background-color:rgba(135,206,250,0.7356461);\">review</span> <span style=\"background-color:rgba(135,206,250,0.10628267);\">:</span> <span style=\"background-color:rgba(135,206,250,0.50606716);\">germany</span> <span style=\"background-color:rgba(135,206,250,0.09296237);\">:</span> <span style=\"background-color:rgba(135,206,250,0.1851753);\">mosel</span> <span style=\"background-color:rgba(135,206,250,0.108360834);\">:</span> <span style=\"background-color:rgba(135,206,250,0.12942755);\">riesling</span> <span style=\"background-color:rgba(135,206,250,0.09361766);\">:</span> <span style=\"background-color:rgba(135,206,250,0.15482207);\">hints</span> <span style=\"background-color:rgba(135,206,250,0.08554732);\">of</span> <span style=\"background-color:rgba(135,206,250,0.08754346);\">smoke</span> <span style=\"background-color:rgba(135,206,250,0.053450823);\">and</span> <span style=\"background-color:rgba(135,206,250,0.10626313);\">earth</span> <span style=\"background-color:rgba(135,206,250,0.119049);\">add</span> <span style=\"background-color:rgba(135,206,250,0.104645774);\">complexity</span> <span style=\"background-color:rgba(135,206,250,0.096124604);\">to</span> <span style=\"background-color:rgba(135,206,250,0.07368984);\">this</span> <span style=\"background-color:rgba(135,206,250,0.15581632);\">dry</span> <span style=\"background-color:rgba(135,206,250,0.13774212);\">,</span> <span style=\"background-color:rgba(135,206,250,0.14785054);\">full</span> <span style=\"background-color:rgba(135,206,250,0.1184476);\">-</span> <span style=\"background-color:rgba(135,206,250,0.2825329);\">bodied</span> <span style=\"background-color:rgba(135,206,250,0.27154577);\">riesling</span> <span style=\"background-color:rgba(135,206,250,1.0);\">.</span> <span style=\"background-color:rgba(135,206,250,0.21598536);\">it</span>"
            ]
          },
          "metadata": {}
        },
        {
          "output_type": "stream",
          "name": "stdout",
          "text": [
            "':   \t99.88%\n",
            "finishes:   \t0.07%\n",
            "juxtaposes:   \t0.02%\n",
            "has:   \t0.01%\n",
            "offers:   \t0.01%\n",
            "--------\n",
            "\n"
          ]
        },
        {
          "output_type": "display_data",
          "data": {
            "text/plain": [
              "<IPython.core.display.HTML object>"
            ],
            "text/html": [
              "<span style=\"background-color:rgba(135,206,250,0.24375415);\">wine</span> <span style=\"background-color:rgba(135,206,250,0.31754214);\">review</span> <span style=\"background-color:rgba(135,206,250,0.044336002);\">:</span> <span style=\"background-color:rgba(135,206,250,0.22446586);\">germany</span> <span style=\"background-color:rgba(135,206,250,0.03804681);\">:</span> <span style=\"background-color:rgba(135,206,250,0.20210747);\">mosel</span> <span style=\"background-color:rgba(135,206,250,0.052132383);\">:</span> <span style=\"background-color:rgba(135,206,250,0.17505275);\">riesling</span> <span style=\"background-color:rgba(135,206,250,0.07108862);\">:</span> <span style=\"background-color:rgba(135,206,250,0.10513938);\">hints</span> <span style=\"background-color:rgba(135,206,250,0.06148078);\">of</span> <span style=\"background-color:rgba(135,206,250,0.064695574);\">smoke</span> <span style=\"background-color:rgba(135,206,250,0.04858975);\">and</span> <span style=\"background-color:rgba(135,206,250,0.08449747);\">earth</span> <span style=\"background-color:rgba(135,206,250,0.07178865);\">add</span> <span style=\"background-color:rgba(135,206,250,0.087647066);\">complexity</span> <span style=\"background-color:rgba(135,206,250,0.07599919);\">to</span> <span style=\"background-color:rgba(135,206,250,0.077401266);\">this</span> <span style=\"background-color:rgba(135,206,250,0.1041666);\">dry</span> <span style=\"background-color:rgba(135,206,250,0.07711572);\">,</span> <span style=\"background-color:rgba(135,206,250,0.07258499);\">full</span> <span style=\"background-color:rgba(135,206,250,0.09315735);\">-</span> <span style=\"background-color:rgba(135,206,250,0.15253153);\">bodied</span> <span style=\"background-color:rgba(135,206,250,0.46285757);\">riesling</span> <span style=\"background-color:rgba(135,206,250,0.5890762);\">.</span> <span style=\"background-color:rgba(135,206,250,1.0);\">it</span> <span style=\"background-color:rgba(135,206,250,0.113854006);\">'</span>"
            ]
          },
          "metadata": {}
        },
        {
          "output_type": "stream",
          "name": "stdout",
          "text": [
            "s:   \t100.0%\n",
            "ll:   \t0.0%\n",
            "d:   \t0.0%\n",
            "[UNK]:   \t0.0%\n",
            "riesling:   \t0.0%\n",
            "--------\n",
            "\n"
          ]
        },
        {
          "output_type": "display_data",
          "data": {
            "text/plain": [
              "<IPython.core.display.HTML object>"
            ],
            "text/html": [
              "<span style=\"background-color:rgba(135,206,250,0.50046885);\">wine</span> <span style=\"background-color:rgba(135,206,250,0.90621465);\">review</span> <span style=\"background-color:rgba(135,206,250,0.10757515);\">:</span> <span style=\"background-color:rgba(135,206,250,0.4997336);\">germany</span> <span style=\"background-color:rgba(135,206,250,0.095994145);\">:</span> <span style=\"background-color:rgba(135,206,250,0.2705441);\">mosel</span> <span style=\"background-color:rgba(135,206,250,0.107363306);\">:</span> <span style=\"background-color:rgba(135,206,250,0.32173833);\">riesling</span> <span style=\"background-color:rgba(135,206,250,0.15502779);\">:</span> <span style=\"background-color:rgba(135,206,250,0.14865986);\">hints</span> <span style=\"background-color:rgba(135,206,250,0.08206549);\">of</span> <span style=\"background-color:rgba(135,206,250,0.10501801);\">smoke</span> <span style=\"background-color:rgba(135,206,250,0.07652724);\">and</span> <span style=\"background-color:rgba(135,206,250,0.115641356);\">earth</span> <span style=\"background-color:rgba(135,206,250,0.13297214);\">add</span> <span style=\"background-color:rgba(135,206,250,0.1463285);\">complexity</span> <span style=\"background-color:rgba(135,206,250,0.080809675);\">to</span> <span style=\"background-color:rgba(135,206,250,0.14024946);\">this</span> <span style=\"background-color:rgba(135,206,250,0.19575965);\">dry</span> <span style=\"background-color:rgba(135,206,250,0.146171);\">,</span> <span style=\"background-color:rgba(135,206,250,0.18844764);\">full</span> <span style=\"background-color:rgba(135,206,250,0.11877311);\">-</span> <span style=\"background-color:rgba(135,206,250,0.29981622);\">bodied</span> <span style=\"background-color:rgba(135,206,250,0.43709156);\">riesling</span> <span style=\"background-color:rgba(135,206,250,1.0);\">.</span> <span style=\"background-color:rgba(135,206,250,0.7933933);\">it</span> <span style=\"background-color:rgba(135,206,250,0.1681476);\">'</span> <span style=\"background-color:rgba(135,206,250,0.22832951);\">s</span>"
            ]
          },
          "metadata": {}
        },
        {
          "output_type": "stream",
          "name": "stdout",
          "text": [
            "a:   \t44.49%\n",
            "dry:   \t6.1%\n",
            "unabashedly:   \t4.96%\n",
            "rich:   \t4.6%\n",
            "juicy:   \t3.87%\n",
            "--------\n",
            "\n"
          ]
        },
        {
          "output_type": "display_data",
          "data": {
            "text/plain": [
              "<IPython.core.display.HTML object>"
            ],
            "text/html": [
              "<span style=\"background-color:rgba(135,206,250,0.5814513);\">wine</span> <span style=\"background-color:rgba(135,206,250,0.95149827);\">review</span> <span style=\"background-color:rgba(135,206,250,0.10070223);\">:</span> <span style=\"background-color:rgba(135,206,250,0.521867);\">germany</span> <span style=\"background-color:rgba(135,206,250,0.11729352);\">:</span> <span style=\"background-color:rgba(135,206,250,0.28213668);\">mosel</span> <span style=\"background-color:rgba(135,206,250,0.14603299);\">:</span> <span style=\"background-color:rgba(135,206,250,0.46191406);\">riesling</span> <span style=\"background-color:rgba(135,206,250,0.13198225);\">:</span> <span style=\"background-color:rgba(135,206,250,0.13998587);\">hints</span> <span style=\"background-color:rgba(135,206,250,0.07758769);\">of</span> <span style=\"background-color:rgba(135,206,250,0.07867513);\">smoke</span> <span style=\"background-color:rgba(135,206,250,0.08648411);\">and</span> <span style=\"background-color:rgba(135,206,250,0.09228);\">earth</span> <span style=\"background-color:rgba(135,206,250,0.124747835);\">add</span> <span style=\"background-color:rgba(135,206,250,0.09804002);\">complexity</span> <span style=\"background-color:rgba(135,206,250,0.07218317);\">to</span> <span style=\"background-color:rgba(135,206,250,0.15315165);\">this</span> <span style=\"background-color:rgba(135,206,250,0.113896884);\">dry</span> <span style=\"background-color:rgba(135,206,250,0.1119595);\">,</span> <span style=\"background-color:rgba(135,206,250,0.08384487);\">full</span> <span style=\"background-color:rgba(135,206,250,0.0690309);\">-</span> <span style=\"background-color:rgba(135,206,250,0.1464994);\">bodied</span> <span style=\"background-color:rgba(135,206,250,0.41956323);\">riesling</span> <span style=\"background-color:rgba(135,206,250,0.85692084);\">.</span> <span style=\"background-color:rgba(135,206,250,0.6325174);\">it</span> <span style=\"background-color:rgba(135,206,250,0.21917728);\">'</span> <span style=\"background-color:rgba(135,206,250,1.0);\">s</span> <span style=\"background-color:rgba(135,206,250,0.39070022);\">brisk</span>"
            ]
          },
          "metadata": {}
        },
        {
          "output_type": "stream",
          "name": "stdout",
          "text": [
            "and:   \t94.16%\n",
            ",:   \t3.34%\n",
            "with:   \t1.58%\n",
            "in:   \t0.62%\n",
            "on:   \t0.2%\n",
            "--------\n",
            "\n"
          ]
        },
        {
          "output_type": "display_data",
          "data": {
            "text/plain": [
              "<IPython.core.display.HTML object>"
            ],
            "text/html": [
              "<span style=\"background-color:rgba(135,206,250,0.2529863);\">wine</span> <span style=\"background-color:rgba(135,206,250,0.44388226);\">review</span> <span style=\"background-color:rgba(135,206,250,0.06199727);\">:</span> <span style=\"background-color:rgba(135,206,250,0.39416084);\">germany</span> <span style=\"background-color:rgba(135,206,250,0.06650493);\">:</span> <span style=\"background-color:rgba(135,206,250,0.2062547);\">mosel</span> <span style=\"background-color:rgba(135,206,250,0.0587919);\">:</span> <span style=\"background-color:rgba(135,206,250,0.26565194);\">riesling</span> <span style=\"background-color:rgba(135,206,250,0.076944865);\">:</span> <span style=\"background-color:rgba(135,206,250,0.11052573);\">hints</span> <span style=\"background-color:rgba(135,206,250,0.044264745);\">of</span> <span style=\"background-color:rgba(135,206,250,0.08298863);\">smoke</span> <span style=\"background-color:rgba(135,206,250,0.033985186);\">and</span> <span style=\"background-color:rgba(135,206,250,0.08972996);\">earth</span> <span style=\"background-color:rgba(135,206,250,0.105079904);\">add</span> <span style=\"background-color:rgba(135,206,250,0.08391476);\">complexity</span> <span style=\"background-color:rgba(135,206,250,0.044500094);\">to</span> <span style=\"background-color:rgba(135,206,250,0.088176146);\">this</span> <span style=\"background-color:rgba(135,206,250,0.11968418);\">dry</span> <span style=\"background-color:rgba(135,206,250,0.07582269);\">,</span> <span style=\"background-color:rgba(135,206,250,0.11075856);\">full</span> <span style=\"background-color:rgba(135,206,250,0.06986193);\">-</span> <span style=\"background-color:rgba(135,206,250,0.19957764);\">bodied</span> <span style=\"background-color:rgba(135,206,250,0.27068567);\">riesling</span> <span style=\"background-color:rgba(135,206,250,0.4664056);\">.</span> <span style=\"background-color:rgba(135,206,250,0.25620514);\">it</span> <span style=\"background-color:rgba(135,206,250,0.094446525);\">'</span> <span style=\"background-color:rgba(135,206,250,0.3982422);\">s</span> <span style=\"background-color:rgba(135,206,250,1.0);\">brisk</span> <span style=\"background-color:rgba(135,206,250,0.30536148);\">and</span>"
            ]
          },
          "metadata": {}
        },
        {
          "output_type": "stream",
          "name": "stdout",
          "text": [
            "spry:   \t68.48%\n",
            "minerally:   \t3.28%\n",
            "lean:   \t2.89%\n",
            "thirst:   \t2.89%\n",
            "juicy:   \t2.6%\n",
            "--------\n",
            "\n"
          ]
        },
        {
          "output_type": "display_data",
          "data": {
            "text/plain": [
              "<IPython.core.display.HTML object>"
            ],
            "text/html": [
              "<span style=\"background-color:rgba(135,206,250,0.4496606);\">wine</span> <span style=\"background-color:rgba(135,206,250,0.96768075);\">review</span> <span style=\"background-color:rgba(135,206,250,0.12797906);\">:</span> <span style=\"background-color:rgba(135,206,250,0.5001918);\">germany</span> <span style=\"background-color:rgba(135,206,250,0.11585668);\">:</span> <span style=\"background-color:rgba(135,206,250,0.32137847);\">mosel</span> <span style=\"background-color:rgba(135,206,250,0.10488092);\">:</span> <span style=\"background-color:rgba(135,206,250,0.21686177);\">riesling</span> <span style=\"background-color:rgba(135,206,250,0.12945287);\">:</span> <span style=\"background-color:rgba(135,206,250,0.11724302);\">hints</span> <span style=\"background-color:rgba(135,206,250,0.06621473);\">of</span> <span style=\"background-color:rgba(135,206,250,0.07077749);\">smoke</span> <span style=\"background-color:rgba(135,206,250,0.04951482);\">and</span> <span style=\"background-color:rgba(135,206,250,0.09900283);\">earth</span> <span style=\"background-color:rgba(135,206,250,0.10787139);\">add</span> <span style=\"background-color:rgba(135,206,250,0.085759364);\">complexity</span> <span style=\"background-color:rgba(135,206,250,0.044813383);\">to</span> <span style=\"background-color:rgba(135,206,250,0.090654366);\">this</span> <span style=\"background-color:rgba(135,206,250,0.15469874);\">dry</span> <span style=\"background-color:rgba(135,206,250,0.08571227);\">,</span> <span style=\"background-color:rgba(135,206,250,0.1123058);\">full</span> <span style=\"background-color:rgba(135,206,250,0.07452217);\">-</span> <span style=\"background-color:rgba(135,206,250,0.24209799);\">bodied</span> <span style=\"background-color:rgba(135,206,250,0.17975594);\">riesling</span> <span style=\"background-color:rgba(135,206,250,0.4173859);\">.</span> <span style=\"background-color:rgba(135,206,250,0.3052397);\">it</span> <span style=\"background-color:rgba(135,206,250,0.091699414);\">'</span> <span style=\"background-color:rgba(135,206,250,0.26257843);\">s</span> <span style=\"background-color:rgba(135,206,250,1.0);\">brisk</span> <span style=\"background-color:rgba(135,206,250,0.533738);\">and</span> <span style=\"background-color:rgba(135,206,250,0.21297373);\">slightly</span>"
            ]
          },
          "metadata": {}
        },
        {
          "output_type": "stream",
          "name": "stdout",
          "text": [
            "off:   \t47.15%\n",
            "bitter:   \t16.04%\n",
            "astringent:   \t8.27%\n",
            "sweet:   \t6.34%\n",
            "sour:   \t5.73%\n",
            "--------\n",
            "\n"
          ]
        },
        {
          "output_type": "display_data",
          "data": {
            "text/plain": [
              "<IPython.core.display.HTML object>"
            ],
            "text/html": [
              "<span style=\"background-color:rgba(135,206,250,0.70879483);\">wine</span> <span style=\"background-color:rgba(135,206,250,1.0);\">review</span> <span style=\"background-color:rgba(135,206,250,0.10631158);\">:</span> <span style=\"background-color:rgba(135,206,250,0.6181835);\">germany</span> <span style=\"background-color:rgba(135,206,250,0.12844412);\">:</span> <span style=\"background-color:rgba(135,206,250,0.29722536);\">mosel</span> <span style=\"background-color:rgba(135,206,250,0.12093627);\">:</span> <span style=\"background-color:rgba(135,206,250,0.5866128);\">riesling</span> <span style=\"background-color:rgba(135,206,250,0.1256838);\">:</span> <span style=\"background-color:rgba(135,206,250,0.11974017);\">hints</span> <span style=\"background-color:rgba(135,206,250,0.0745511);\">of</span> <span style=\"background-color:rgba(135,206,250,0.09260515);\">smoke</span> <span style=\"background-color:rgba(135,206,250,0.093543425);\">and</span> <span style=\"background-color:rgba(135,206,250,0.100082934);\">earth</span> <span style=\"background-color:rgba(135,206,250,0.14894247);\">add</span> <span style=\"background-color:rgba(135,206,250,0.13208681);\">complexity</span> <span style=\"background-color:rgba(135,206,250,0.07703177);\">to</span> <span style=\"background-color:rgba(135,206,250,0.12658975);\">this</span> <span style=\"background-color:rgba(135,206,250,0.109329596);\">dry</span> <span style=\"background-color:rgba(135,206,250,0.10995981);\">,</span> <span style=\"background-color:rgba(135,206,250,0.120345294);\">full</span> <span style=\"background-color:rgba(135,206,250,0.060379963);\">-</span> <span style=\"background-color:rgba(135,206,250,0.19671826);\">bodied</span> <span style=\"background-color:rgba(135,206,250,0.34845263);\">riesling</span> <span style=\"background-color:rgba(135,206,250,0.547007);\">.</span> <span style=\"background-color:rgba(135,206,250,0.4593653);\">it</span> <span style=\"background-color:rgba(135,206,250,0.11784511);\">'</span> <span style=\"background-color:rgba(135,206,250,0.45392224);\">s</span> <span style=\"background-color:rgba(135,206,250,0.61607265);\">brisk</span> <span style=\"background-color:rgba(135,206,250,0.6979327);\">and</span> <span style=\"background-color:rgba(135,206,250,0.7375845);\">slightly</span> <span style=\"background-color:rgba(135,206,250,0.7914654);\">bitter</span>"
            ]
          },
          "metadata": {}
        },
        {
          "output_type": "stream",
          "name": "stdout",
          "text": [
            ",:   \t52.01%\n",
            "on:   \t29.21%\n",
            "in:   \t17.32%\n",
            "-:   \t0.76%\n",
            ".:   \t0.54%\n",
            "--------\n",
            "\n"
          ]
        },
        {
          "output_type": "display_data",
          "data": {
            "text/plain": [
              "<IPython.core.display.HTML object>"
            ],
            "text/html": [
              "<span style=\"background-color:rgba(135,206,250,0.28461552);\">wine</span> <span style=\"background-color:rgba(135,206,250,0.5454823);\">review</span> <span style=\"background-color:rgba(135,206,250,0.07198554);\">:</span> <span style=\"background-color:rgba(135,206,250,0.4716177);\">germany</span> <span style=\"background-color:rgba(135,206,250,0.07993501);\">:</span> <span style=\"background-color:rgba(135,206,250,0.16654408);\">mosel</span> <span style=\"background-color:rgba(135,206,250,0.0679112);\">:</span> <span style=\"background-color:rgba(135,206,250,0.2948301);\">riesling</span> <span style=\"background-color:rgba(135,206,250,0.09343142);\">:</span> <span style=\"background-color:rgba(135,206,250,0.10796863);\">hints</span> <span style=\"background-color:rgba(135,206,250,0.057332825);\">of</span> <span style=\"background-color:rgba(135,206,250,0.06670492);\">smoke</span> <span style=\"background-color:rgba(135,206,250,0.048239253);\">and</span> <span style=\"background-color:rgba(135,206,250,0.0725315);\">earth</span> <span style=\"background-color:rgba(135,206,250,0.13056746);\">add</span> <span style=\"background-color:rgba(135,206,250,0.059926398);\">complexity</span> <span style=\"background-color:rgba(135,206,250,0.044164896);\">to</span> <span style=\"background-color:rgba(135,206,250,0.14075741);\">this</span> <span style=\"background-color:rgba(135,206,250,0.09819071);\">dry</span> <span style=\"background-color:rgba(135,206,250,0.048408493);\">,</span> <span style=\"background-color:rgba(135,206,250,0.08802523);\">full</span> <span style=\"background-color:rgba(135,206,250,0.039447695);\">-</span> <span style=\"background-color:rgba(135,206,250,0.10793325);\">bodied</span> <span style=\"background-color:rgba(135,206,250,0.16405852);\">riesling</span> <span style=\"background-color:rgba(135,206,250,0.5003076);\">.</span> <span style=\"background-color:rgba(135,206,250,0.30847138);\">it</span> <span style=\"background-color:rgba(135,206,250,0.067374855);\">'</span> <span style=\"background-color:rgba(135,206,250,0.32459852);\">s</span> <span style=\"background-color:rgba(135,206,250,0.5143895);\">brisk</span> <span style=\"background-color:rgba(135,206,250,0.6653105);\">and</span> <span style=\"background-color:rgba(135,206,250,0.44643727);\">slightly</span> <span style=\"background-color:rgba(135,206,250,1.0);\">bitter</span> <span style=\"background-color:rgba(135,206,250,0.41847655);\">,</span>"
            ]
          },
          "metadata": {}
        },
        {
          "output_type": "stream",
          "name": "stdout",
          "text": [
            "with:   \t84.44%\n",
            "but:   \t13.79%\n",
            "yet:   \t1.34%\n",
            "it:   \t0.15%\n",
            "juxtaposing:   \t0.15%\n",
            "--------\n",
            "\n"
          ]
        },
        {
          "output_type": "display_data",
          "data": {
            "text/plain": [
              "<IPython.core.display.HTML object>"
            ],
            "text/html": [
              "<span style=\"background-color:rgba(135,206,250,0.51421386);\">wine</span> <span style=\"background-color:rgba(135,206,250,1.0);\">review</span> <span style=\"background-color:rgba(135,206,250,0.1438208);\">:</span> <span style=\"background-color:rgba(135,206,250,0.5838049);\">germany</span> <span style=\"background-color:rgba(135,206,250,0.15031718);\">:</span> <span style=\"background-color:rgba(135,206,250,0.267782);\">mosel</span> <span style=\"background-color:rgba(135,206,250,0.15356146);\">:</span> <span style=\"background-color:rgba(135,206,250,0.37800038);\">riesling</span> <span style=\"background-color:rgba(135,206,250,0.1193837);\">:</span> <span style=\"background-color:rgba(135,206,250,0.110135846);\">hints</span> <span style=\"background-color:rgba(135,206,250,0.043517005);\">of</span> <span style=\"background-color:rgba(135,206,250,0.10150035);\">smoke</span> <span style=\"background-color:rgba(135,206,250,0.056553267);\">and</span> <span style=\"background-color:rgba(135,206,250,0.10845145);\">earth</span> <span style=\"background-color:rgba(135,206,250,0.094694);\">add</span> <span style=\"background-color:rgba(135,206,250,0.1020918);\">complexity</span> <span style=\"background-color:rgba(135,206,250,0.04284873);\">to</span> <span style=\"background-color:rgba(135,206,250,0.092508346);\">this</span> <span style=\"background-color:rgba(135,206,250,0.12705866);\">dry</span> <span style=\"background-color:rgba(135,206,250,0.06300026);\">,</span> <span style=\"background-color:rgba(135,206,250,0.07539831);\">full</span> <span style=\"background-color:rgba(135,206,250,0.048986666);\">-</span> <span style=\"background-color:rgba(135,206,250,0.13545282);\">bodied</span> <span style=\"background-color:rgba(135,206,250,0.1590268);\">riesling</span> <span style=\"background-color:rgba(135,206,250,0.27723825);\">.</span> <span style=\"background-color:rgba(135,206,250,0.12314617);\">it</span> <span style=\"background-color:rgba(135,206,250,0.046879556);\">'</span> <span style=\"background-color:rgba(135,206,250,0.11341741);\">s</span> <span style=\"background-color:rgba(135,206,250,0.47853795);\">brisk</span> <span style=\"background-color:rgba(135,206,250,0.2187999);\">and</span> <span style=\"background-color:rgba(135,206,250,0.18184398);\">slightly</span> <span style=\"background-color:rgba(135,206,250,0.5530947);\">bitter</span> <span style=\"background-color:rgba(135,206,250,0.7627847);\">,</span> <span style=\"background-color:rgba(135,206,250,0.43429178);\">with</span>"
            ]
          },
          "metadata": {}
        },
        {
          "output_type": "stream",
          "name": "stdout",
          "text": [
            "a:   \t83.39%\n",
            "hints:   \t3.85%\n",
            "flavors:   \t2.44%\n",
            "tart:   \t1.69%\n",
            "lime:   \t1.35%\n",
            "--------\n",
            "\n"
          ]
        },
        {
          "output_type": "display_data",
          "data": {
            "text/plain": [
              "<IPython.core.display.HTML object>"
            ],
            "text/html": [
              "<span style=\"background-color:rgba(135,206,250,0.31917983);\">wine</span> <span style=\"background-color:rgba(135,206,250,0.5699294);\">review</span> <span style=\"background-color:rgba(135,206,250,0.06802972);\">:</span> <span style=\"background-color:rgba(135,206,250,0.47010493);\">germany</span> <span style=\"background-color:rgba(135,206,250,0.057057183);\">:</span> <span style=\"background-color:rgba(135,206,250,0.20485368);\">mosel</span> <span style=\"background-color:rgba(135,206,250,0.05043063);\">:</span> <span style=\"background-color:rgba(135,206,250,0.20888473);\">riesling</span> <span style=\"background-color:rgba(135,206,250,0.06403381);\">:</span> <span style=\"background-color:rgba(135,206,250,0.09495133);\">hints</span> <span style=\"background-color:rgba(135,206,250,0.038397707);\">of</span> <span style=\"background-color:rgba(135,206,250,0.063756876);\">smoke</span> <span style=\"background-color:rgba(135,206,250,0.03266012);\">and</span> <span style=\"background-color:rgba(135,206,250,0.07524892);\">earth</span> <span style=\"background-color:rgba(135,206,250,0.07500749);\">add</span> <span style=\"background-color:rgba(135,206,250,0.07326315);\">complexity</span> <span style=\"background-color:rgba(135,206,250,0.02936199);\">to</span> <span style=\"background-color:rgba(135,206,250,0.0501615);\">this</span> <span style=\"background-color:rgba(135,206,250,0.08714443);\">dry</span> <span style=\"background-color:rgba(135,206,250,0.043264266);\">,</span> <span style=\"background-color:rgba(135,206,250,0.060979605);\">full</span> <span style=\"background-color:rgba(135,206,250,0.026950745);\">-</span> <span style=\"background-color:rgba(135,206,250,0.09049503);\">bodied</span> <span style=\"background-color:rgba(135,206,250,0.11098107);\">riesling</span> <span style=\"background-color:rgba(135,206,250,0.1848129);\">.</span> <span style=\"background-color:rgba(135,206,250,0.087279834);\">it</span> <span style=\"background-color:rgba(135,206,250,0.0346781);\">'</span> <span style=\"background-color:rgba(135,206,250,0.09791914);\">s</span> <span style=\"background-color:rgba(135,206,250,0.2827313);\">brisk</span> <span style=\"background-color:rgba(135,206,250,0.1510607);\">and</span> <span style=\"background-color:rgba(135,206,250,0.13139354);\">slightly</span> <span style=\"background-color:rgba(135,206,250,0.38275883);\">bitter</span> <span style=\"background-color:rgba(135,206,250,0.47421414);\">,</span> <span style=\"background-color:rgba(135,206,250,1.0);\">with</span> <span style=\"background-color:rgba(135,206,250,0.19460511);\">a</span>"
            ]
          },
          "metadata": {}
        },
        {
          "output_type": "stream",
          "name": "stdout",
          "text": [
            "hint:   \t52.64%\n",
            "slightly:   \t9.61%\n",
            "long:   \t9.13%\n",
            "lingering:   \t5.69%\n",
            "delicate:   \t2.5%\n",
            "--------\n",
            "\n"
          ]
        },
        {
          "output_type": "display_data",
          "data": {
            "text/plain": [
              "<IPython.core.display.HTML object>"
            ],
            "text/html": [
              "<span style=\"background-color:rgba(135,206,250,0.23638128);\">wine</span> <span style=\"background-color:rgba(135,206,250,0.37602502);\">review</span> <span style=\"background-color:rgba(135,206,250,0.046286926);\">:</span> <span style=\"background-color:rgba(135,206,250,0.3674019);\">germany</span> <span style=\"background-color:rgba(135,206,250,0.052083973);\">:</span> <span style=\"background-color:rgba(135,206,250,0.21230893);\">mosel</span> <span style=\"background-color:rgba(135,206,250,0.05658506);\">:</span> <span style=\"background-color:rgba(135,206,250,0.35820442);\">riesling</span> <span style=\"background-color:rgba(135,206,250,0.05881524);\">:</span> <span style=\"background-color:rgba(135,206,250,0.06267069);\">hints</span> <span style=\"background-color:rgba(135,206,250,0.030274825);\">of</span> <span style=\"background-color:rgba(135,206,250,0.053437453);\">smoke</span> <span style=\"background-color:rgba(135,206,250,0.033394974);\">and</span> <span style=\"background-color:rgba(135,206,250,0.056428827);\">earth</span> <span style=\"background-color:rgba(135,206,250,0.046247475);\">add</span> <span style=\"background-color:rgba(135,206,250,0.04631);\">complexity</span> <span style=\"background-color:rgba(135,206,250,0.025151493);\">to</span> <span style=\"background-color:rgba(135,206,250,0.05298007);\">this</span> <span style=\"background-color:rgba(135,206,250,0.06421064);\">dry</span> <span style=\"background-color:rgba(135,206,250,0.041123338);\">,</span> <span style=\"background-color:rgba(135,206,250,0.028726522);\">full</span> <span style=\"background-color:rgba(135,206,250,0.028291358);\">-</span> <span style=\"background-color:rgba(135,206,250,0.07876031);\">bodied</span> <span style=\"background-color:rgba(135,206,250,0.1477984);\">riesling</span> <span style=\"background-color:rgba(135,206,250,0.20919575);\">.</span> <span style=\"background-color:rgba(135,206,250,0.11613353);\">it</span> <span style=\"background-color:rgba(135,206,250,0.03576277);\">'</span> <span style=\"background-color:rgba(135,206,250,0.13788323);\">s</span> <span style=\"background-color:rgba(135,206,250,0.114462025);\">brisk</span> <span style=\"background-color:rgba(135,206,250,0.12505265);\">and</span> <span style=\"background-color:rgba(135,206,250,0.09755432);\">slightly</span> <span style=\"background-color:rgba(135,206,250,0.2043242);\">bitter</span> <span style=\"background-color:rgba(135,206,250,0.24633661);\">,</span> <span style=\"background-color:rgba(135,206,250,0.759916);\">with</span> <span style=\"background-color:rgba(135,206,250,1.0);\">a</span> <span style=\"background-color:rgba(135,206,250,0.2701428);\">juicy</span>"
            ]
          },
          "metadata": {}
        },
        {
          "output_type": "stream",
          "name": "stdout",
          "text": [
            ",:   \t95.35%\n",
            "midpalate:   \t0.81%\n",
            "core:   \t0.81%\n",
            "vein:   \t0.51%\n",
            "finish:   \t0.49%\n",
            "--------\n",
            "\n"
          ]
        },
        {
          "output_type": "display_data",
          "data": {
            "text/plain": [
              "<IPython.core.display.HTML object>"
            ],
            "text/html": [
              "<span style=\"background-color:rgba(135,206,250,0.23628885);\">wine</span> <span style=\"background-color:rgba(135,206,250,0.46640044);\">review</span> <span style=\"background-color:rgba(135,206,250,0.0713316);\">:</span> <span style=\"background-color:rgba(135,206,250,0.45119187);\">germany</span> <span style=\"background-color:rgba(135,206,250,0.08787669);\">:</span> <span style=\"background-color:rgba(135,206,250,0.15229034);\">mosel</span> <span style=\"background-color:rgba(135,206,250,0.059710402);\">:</span> <span style=\"background-color:rgba(135,206,250,0.26829705);\">riesling</span> <span style=\"background-color:rgba(135,206,250,0.078781344);\">:</span> <span style=\"background-color:rgba(135,206,250,0.08821349);\">hints</span> <span style=\"background-color:rgba(135,206,250,0.042338148);\">of</span> <span style=\"background-color:rgba(135,206,250,0.05165697);\">smoke</span> <span style=\"background-color:rgba(135,206,250,0.03830934);\">and</span> <span style=\"background-color:rgba(135,206,250,0.053763177);\">earth</span> <span style=\"background-color:rgba(135,206,250,0.092040844);\">add</span> <span style=\"background-color:rgba(135,206,250,0.04212941);\">complexity</span> <span style=\"background-color:rgba(135,206,250,0.029224414);\">to</span> <span style=\"background-color:rgba(135,206,250,0.09484918);\">this</span> <span style=\"background-color:rgba(135,206,250,0.07262189);\">dry</span> <span style=\"background-color:rgba(135,206,250,0.035046227);\">,</span> <span style=\"background-color:rgba(135,206,250,0.058912918);\">full</span> <span style=\"background-color:rgba(135,206,250,0.022466213);\">-</span> <span style=\"background-color:rgba(135,206,250,0.068361275);\">bodied</span> <span style=\"background-color:rgba(135,206,250,0.10693995);\">riesling</span> <span style=\"background-color:rgba(135,206,250,0.31467533);\">.</span> <span style=\"background-color:rgba(135,206,250,0.19200404);\">it</span> <span style=\"background-color:rgba(135,206,250,0.03346562);\">'</span> <span style=\"background-color:rgba(135,206,250,0.14832976);\">s</span> <span style=\"background-color:rgba(135,206,250,0.19578612);\">brisk</span> <span style=\"background-color:rgba(135,206,250,0.17673151);\">and</span> <span style=\"background-color:rgba(135,206,250,0.14890046);\">slightly</span> <span style=\"background-color:rgba(135,206,250,0.2992482);\">bitter</span> <span style=\"background-color:rgba(135,206,250,0.13662559);\">,</span> <span style=\"background-color:rgba(135,206,250,0.7130625);\">with</span> <span style=\"background-color:rgba(135,206,250,0.49742162);\">a</span> <span style=\"background-color:rgba(135,206,250,1.0);\">juicy</span> <span style=\"background-color:rgba(135,206,250,0.42340392);\">,</span>"
            ]
          },
          "metadata": {}
        },
        {
          "output_type": "stream",
          "name": "stdout",
          "text": [
            "mineral:   \t18.28%\n",
            "fruity:   \t9.55%\n",
            "juicy:   \t8.38%\n",
            "lemony:   \t7.16%\n",
            "slightly:   \t6.37%\n",
            "--------\n",
            "\n"
          ]
        },
        {
          "output_type": "display_data",
          "data": {
            "text/plain": [
              "<IPython.core.display.HTML object>"
            ],
            "text/html": [
              "<span style=\"background-color:rgba(135,206,250,0.45664728);\">wine</span> <span style=\"background-color:rgba(135,206,250,0.75244457);\">review</span> <span style=\"background-color:rgba(135,206,250,0.09101142);\">:</span> <span style=\"background-color:rgba(135,206,250,0.5277372);\">germany</span> <span style=\"background-color:rgba(135,206,250,0.1275273);\">:</span> <span style=\"background-color:rgba(135,206,250,0.26112524);\">mosel</span> <span style=\"background-color:rgba(135,206,250,0.11303165);\">:</span> <span style=\"background-color:rgba(135,206,250,0.375013);\">riesling</span> <span style=\"background-color:rgba(135,206,250,0.10094508);\">:</span> <span style=\"background-color:rgba(135,206,250,0.14586268);\">hints</span> <span style=\"background-color:rgba(135,206,250,0.056082014);\">of</span> <span style=\"background-color:rgba(135,206,250,0.07159281);\">smoke</span> <span style=\"background-color:rgba(135,206,250,0.046886094);\">and</span> <span style=\"background-color:rgba(135,206,250,0.07323726);\">earth</span> <span style=\"background-color:rgba(135,206,250,0.08502364);\">add</span> <span style=\"background-color:rgba(135,206,250,0.076093934);\">complexity</span> <span style=\"background-color:rgba(135,206,250,0.043323163);\">to</span> <span style=\"background-color:rgba(135,206,250,0.08119858);\">this</span> <span style=\"background-color:rgba(135,206,250,0.087876365);\">dry</span> <span style=\"background-color:rgba(135,206,250,0.06180021);\">,</span> <span style=\"background-color:rgba(135,206,250,0.061106626);\">full</span> <span style=\"background-color:rgba(135,206,250,0.034507588);\">-</span> <span style=\"background-color:rgba(135,206,250,0.10433791);\">bodied</span> <span style=\"background-color:rgba(135,206,250,0.14979745);\">riesling</span> <span style=\"background-color:rgba(135,206,250,0.26716232);\">.</span> <span style=\"background-color:rgba(135,206,250,0.13428883);\">it</span> <span style=\"background-color:rgba(135,206,250,0.05534924);\">'</span> <span style=\"background-color:rgba(135,206,250,0.13277395);\">s</span> <span style=\"background-color:rgba(135,206,250,0.12534164);\">brisk</span> <span style=\"background-color:rgba(135,206,250,0.117455885);\">and</span> <span style=\"background-color:rgba(135,206,250,0.09757424);\">slightly</span> <span style=\"background-color:rgba(135,206,250,0.21830662);\">bitter</span> <span style=\"background-color:rgba(135,206,250,0.2677567);\">,</span> <span style=\"background-color:rgba(135,206,250,0.6825753);\">with</span> <span style=\"background-color:rgba(135,206,250,0.8914951);\">a</span> <span style=\"background-color:rgba(135,206,250,0.2666369);\">juicy</span> <span style=\"background-color:rgba(135,206,250,1.0);\">,</span> <span style=\"background-color:rgba(135,206,250,0.46531245);\">refreshing</span>"
            ]
          },
          "metadata": {}
        },
        {
          "output_type": "stream",
          "name": "stdout",
          "text": [
            "finish:   \t74.95%\n",
            "tone:   \t4.22%\n",
            "feel:   \t2.29%\n",
            "mineral:   \t2.26%\n",
            "character:   \t2.15%\n",
            "--------\n",
            "\n"
          ]
        },
        {
          "output_type": "display_data",
          "data": {
            "text/plain": [
              "<IPython.core.display.HTML object>"
            ],
            "text/html": [
              "<span style=\"background-color:rgba(135,206,250,0.38251227);\">wine</span> <span style=\"background-color:rgba(135,206,250,0.9739869);\">review</span> <span style=\"background-color:rgba(135,206,250,0.13707165);\">:</span> <span style=\"background-color:rgba(135,206,250,0.48674187);\">germany</span> <span style=\"background-color:rgba(135,206,250,0.16623743);\">:</span> <span style=\"background-color:rgba(135,206,250,0.11727016);\">mosel</span> <span style=\"background-color:rgba(135,206,250,0.11608543);\">:</span> <span style=\"background-color:rgba(135,206,250,0.120690376);\">riesling</span> <span style=\"background-color:rgba(135,206,250,0.11297356);\">:</span> <span style=\"background-color:rgba(135,206,250,0.13851243);\">hints</span> <span style=\"background-color:rgba(135,206,250,0.055423476);\">of</span> <span style=\"background-color:rgba(135,206,250,0.04815234);\">smoke</span> <span style=\"background-color:rgba(135,206,250,0.049373757);\">and</span> <span style=\"background-color:rgba(135,206,250,0.056140892);\">earth</span> <span style=\"background-color:rgba(135,206,250,0.109383196);\">add</span> <span style=\"background-color:rgba(135,206,250,0.047646493);\">complexity</span> <span style=\"background-color:rgba(135,206,250,0.03486769);\">to</span> <span style=\"background-color:rgba(135,206,250,0.059838563);\">this</span> <span style=\"background-color:rgba(135,206,250,0.07211537);\">dry</span> <span style=\"background-color:rgba(135,206,250,0.044021796);\">,</span> <span style=\"background-color:rgba(135,206,250,0.05871071);\">full</span> <span style=\"background-color:rgba(135,206,250,0.021200342);\">-</span> <span style=\"background-color:rgba(135,206,250,0.0521405);\">bodied</span> <span style=\"background-color:rgba(135,206,250,0.06220045);\">riesling</span> <span style=\"background-color:rgba(135,206,250,0.27514344);\">.</span> <span style=\"background-color:rgba(135,206,250,0.10838403);\">it</span> <span style=\"background-color:rgba(135,206,250,0.04503752);\">'</span> <span style=\"background-color:rgba(135,206,250,0.09936771);\">s</span> <span style=\"background-color:rgba(135,206,250,0.1268075);\">brisk</span> <span style=\"background-color:rgba(135,206,250,0.108688705);\">and</span> <span style=\"background-color:rgba(135,206,250,0.099060215);\">slightly</span> <span style=\"background-color:rgba(135,206,250,0.22670633);\">bitter</span> <span style=\"background-color:rgba(135,206,250,0.21782456);\">,</span> <span style=\"background-color:rgba(135,206,250,0.76072234);\">with</span> <span style=\"background-color:rgba(135,206,250,0.44759104);\">a</span> <span style=\"background-color:rgba(135,206,250,0.33567384);\">juicy</span> <span style=\"background-color:rgba(135,206,250,0.7184075);\">,</span> <span style=\"background-color:rgba(135,206,250,1.0);\">refreshing</span> <span style=\"background-color:rgba(135,206,250,0.45178807);\">finish</span>"
            ]
          },
          "metadata": {}
        },
        {
          "output_type": "stream",
          "name": "stdout",
          "text": [
            ".:   \t99.97%\n",
            "that:   \t0.02%\n",
            ",:   \t0.01%\n",
            "marked:   \t0.0%\n",
            "with:   \t0.0%\n",
            "--------\n",
            "\n"
          ]
        },
        {
          "output_type": "display_data",
          "data": {
            "text/plain": [
              "<IPython.core.display.HTML object>"
            ],
            "text/html": [
              "<span style=\"background-color:rgba(135,206,250,0.34153262);\">wine</span> <span style=\"background-color:rgba(135,206,250,0.8745785);\">review</span> <span style=\"background-color:rgba(135,206,250,0.15549102);\">:</span> <span style=\"background-color:rgba(135,206,250,1.0);\">germany</span> <span style=\"background-color:rgba(135,206,250,0.16862217);\">:</span> <span style=\"background-color:rgba(135,206,250,0.1709479);\">mosel</span> <span style=\"background-color:rgba(135,206,250,0.1524223);\">:</span> <span style=\"background-color:rgba(135,206,250,0.23525977);\">riesling</span> <span style=\"background-color:rgba(135,206,250,0.101205885);\">:</span> <span style=\"background-color:rgba(135,206,250,0.06113809);\">hints</span> <span style=\"background-color:rgba(135,206,250,0.027809247);\">of</span> <span style=\"background-color:rgba(135,206,250,0.0390315);\">smoke</span> <span style=\"background-color:rgba(135,206,250,0.027828272);\">and</span> <span style=\"background-color:rgba(135,206,250,0.037880726);\">earth</span> <span style=\"background-color:rgba(135,206,250,0.061533365);\">add</span> <span style=\"background-color:rgba(135,206,250,0.044065844);\">complexity</span> <span style=\"background-color:rgba(135,206,250,0.023035217);\">to</span> <span style=\"background-color:rgba(135,206,250,0.07416262);\">this</span> <span style=\"background-color:rgba(135,206,250,0.05747901);\">dry</span> <span style=\"background-color:rgba(135,206,250,0.030513056);\">,</span> <span style=\"background-color:rgba(135,206,250,0.04013354);\">full</span> <span style=\"background-color:rgba(135,206,250,0.019992469);\">-</span> <span style=\"background-color:rgba(135,206,250,0.05808154);\">bodied</span> <span style=\"background-color:rgba(135,206,250,0.07585176);\">riesling</span> <span style=\"background-color:rgba(135,206,250,0.13222827);\">.</span> <span style=\"background-color:rgba(135,206,250,0.071715064);\">it</span> <span style=\"background-color:rgba(135,206,250,0.018898318);\">'</span> <span style=\"background-color:rgba(135,206,250,0.04532234);\">s</span> <span style=\"background-color:rgba(135,206,250,0.08816325);\">brisk</span> <span style=\"background-color:rgba(135,206,250,0.04120659);\">and</span> <span style=\"background-color:rgba(135,206,250,0.049632814);\">slightly</span> <span style=\"background-color:rgba(135,206,250,0.0977952);\">bitter</span> <span style=\"background-color:rgba(135,206,250,0.05416454);\">,</span> <span style=\"background-color:rgba(135,206,250,0.09802559);\">with</span> <span style=\"background-color:rgba(135,206,250,0.06387537);\">a</span> <span style=\"background-color:rgba(135,206,250,0.115905695);\">juicy</span> <span style=\"background-color:rgba(135,206,250,0.100026004);\">,</span> <span style=\"background-color:rgba(135,206,250,0.21015765);\">refreshing</span> <span style=\"background-color:rgba(135,206,250,0.42016262);\">finish</span> <span style=\"background-color:rgba(135,206,250,0.40264714);\">.</span>"
            ]
          },
          "metadata": {}
        },
        {
          "output_type": "stream",
          "name": "stdout",
          "text": [
            ":   \t96.86%\n",
            "drink:   \t2.65%\n",
            "it:   \t0.32%\n",
            "enjoy:   \t0.14%\n",
            "the:   \t0.02%\n",
            "--------\n",
            "\n"
          ]
        }
      ]
    }
  ],
  "metadata": {
    "colab": {
      "provenance": [],
      "machine_shape": "hm",
      "gpuType": "A100",
      "authorship_tag": "ABX9TyNJfMTBGu151ZKl4gOSkIQO",
      "include_colab_link": true
    },
    "kernelspec": {
      "display_name": "Python 3",
      "name": "python3"
    },
    "language_info": {
      "name": "python"
    },
    "accelerator": "GPU"
  },
  "nbformat": 4,
  "nbformat_minor": 0
}